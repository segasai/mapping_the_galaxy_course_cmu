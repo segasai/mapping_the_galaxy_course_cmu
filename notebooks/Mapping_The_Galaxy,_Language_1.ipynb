{
  "nbformat": 4,
  "nbformat_minor": 0,
  "metadata": {
    "colab": {
      "name": "Mapping The Galaxy, Language 1",
      "provenance": [],
      "include_colab_link": true
    },
    "kernelspec": {
      "name": "python3",
      "display_name": "Python 3"
    }
  },
  "cells": [
    {
      "cell_type": "markdown",
      "metadata": {
        "id": "view-in-github",
        "colab_type": "text"
      },
      "source": [
        "<a href=\"https://colab.research.google.com/github/segasai/mapping_the_galaxy_course_cmu/blob/master/notebooks/Mapping_The_Galaxy%2C_Language_1.ipynb\" target=\"_parent\"><img src=\"https://colab.research.google.com/assets/colab-badge.svg\" alt=\"Open In Colab\"/></a>"
      ]
    },
    {
      "cell_type": "code",
      "metadata": {
        "id": "8mgk_e1Au0nc",
        "colab_type": "code",
        "colab": {}
      },
      "source": [
        "import numpy as np\n",
        "import math\n",
        "import matplotlib.pyplot as plt\n",
        "# Some magick you will need in every program of the Course\n",
        "# This will load some functionality you will need later"
      ],
      "execution_count": 0,
      "outputs": []
    },
    {
      "cell_type": "code",
      "metadata": {
        "id": "xpLnU8hKu-gL",
        "colab_type": "code",
        "outputId": "06d22619-5ac2-4722-d688-7a7f3746f476",
        "colab": {
          "base_uri": "https://localhost:8080/",
          "height": 34
        }
      },
      "source": [
        "3+3"
      ],
      "execution_count": 0,
      "outputs": [
        {
          "output_type": "execute_result",
          "data": {
            "text/plain": [
              "6"
            ]
          },
          "metadata": {
            "tags": []
          },
          "execution_count": 7
        }
      ]
    },
    {
      "cell_type": "code",
      "metadata": {
        "id": "3YN2GCayvcTJ",
        "colab_type": "code",
        "outputId": "b33ade9c-6840-4f20-b0c6-e1629f9ac340",
        "colab": {
          "base_uri": "https://localhost:8080/",
          "height": 34
        }
      },
      "source": [
        "2**4"
      ],
      "execution_count": 0,
      "outputs": [
        {
          "output_type": "execute_result",
          "data": {
            "text/plain": [
              "16"
            ]
          },
          "metadata": {
            "tags": []
          },
          "execution_count": 8
        }
      ]
    },
    {
      "cell_type": "code",
      "metadata": {
        "id": "KhbvPRmqvehd",
        "colab_type": "code",
        "outputId": "aadfc0a9-14f1-4df5-ab3b-ec2620768bd9",
        "colab": {
          "base_uri": "https://localhost:8080/",
          "height": 34
        }
      },
      "source": [
        "2.453-1e3"
      ],
      "execution_count": 0,
      "outputs": [
        {
          "output_type": "execute_result",
          "data": {
            "text/plain": [
              "-997.547"
            ]
          },
          "metadata": {
            "tags": []
          },
          "execution_count": 9
        }
      ]
    },
    {
      "cell_type": "code",
      "metadata": {
        "id": "Gvyhji-rvomZ",
        "colab_type": "code",
        "outputId": "f7182f15-17c7-43c7-fea8-05ba34451b57",
        "colab": {
          "base_uri": "https://localhost:8080/",
          "height": 34
        }
      },
      "source": [
        "# This is like a calculator\n",
        "3*(4+2.3)/2-5**(5+2)"
      ],
      "execution_count": 0,
      "outputs": [
        {
          "output_type": "execute_result",
          "data": {
            "text/plain": [
              "-78115.55"
            ]
          },
          "metadata": {
            "tags": []
          },
          "execution_count": 10
        }
      ]
    },
    {
      "cell_type": "code",
      "metadata": {
        "id": "dyWZn9qDxQzr",
        "colab_type": "code",
        "colab": {}
      },
      "source": [
        "# The # sign means to ignore the stuff after the # sign \n",
        "# So you can write here anything "
      ],
      "execution_count": 0,
      "outputs": []
    },
    {
      "cell_type": "markdown",
      "metadata": {
        "id": "P5A1E20SxziU",
        "colab_type": "text"
      },
      "source": [
        "# Part 2"
      ]
    },
    {
      "cell_type": "code",
      "metadata": {
        "id": "JiWNVu_ExvQd",
        "colab_type": "code",
        "colab": {}
      },
      "source": [
        "# You can assign values to names (variables)\n",
        "x=22\n",
        "y=3"
      ],
      "execution_count": 0,
      "outputs": []
    },
    {
      "cell_type": "code",
      "metadata": {
        "id": "Kg9fDKuix11h",
        "colab_type": "code",
        "outputId": "ebeb8bd7-4716-4745-88a7-24f19cdb3fe5",
        "colab": {
          "base_uri": "https://localhost:8080/",
          "height": 34
        }
      },
      "source": [
        "x+3"
      ],
      "execution_count": 0,
      "outputs": [
        {
          "output_type": "execute_result",
          "data": {
            "text/plain": [
              "25"
            ]
          },
          "metadata": {
            "tags": []
          },
          "execution_count": 25
        }
      ]
    },
    {
      "cell_type": "code",
      "metadata": {
        "id": "SXRIaZhC2CkS",
        "colab_type": "code",
        "colab": {}
      },
      "source": [
        "z=x*y+32.6"
      ],
      "execution_count": 0,
      "outputs": []
    },
    {
      "cell_type": "code",
      "metadata": {
        "id": "2KPSuNQ_2LKJ",
        "colab_type": "code",
        "outputId": "f41ce184-c122-4cb6-92d3-aad1618899c0",
        "colab": {
          "base_uri": "https://localhost:8080/",
          "height": 34
        }
      },
      "source": [
        "z"
      ],
      "execution_count": 0,
      "outputs": [
        {
          "output_type": "execute_result",
          "data": {
            "text/plain": [
              "38.6"
            ]
          },
          "metadata": {
            "tags": []
          },
          "execution_count": 19
        }
      ]
    },
    {
      "cell_type": "code",
      "metadata": {
        "id": "9h3TFwPl2Nnd",
        "colab_type": "code",
        "outputId": "28703591-af4e-4765-d963-4a5646addb39",
        "colab": {
          "base_uri": "https://localhost:8080/",
          "height": 50
        }
      },
      "source": [
        "# You can print variables, or any calculation\n",
        "print (x+3, z)\n",
        "print (66)"
      ],
      "execution_count": 0,
      "outputs": [
        {
          "output_type": "stream",
          "text": [
            "25 38.6\n",
            "66\n"
          ],
          "name": "stdout"
        }
      ]
    },
    {
      "cell_type": "markdown",
      "metadata": {
        "id": "C3vQWtEi7SKD",
        "colab_type": "text"
      },
      "source": [
        "After running the lines, you can return and change the values/code and rerun them"
      ]
    },
    {
      "cell_type": "markdown",
      "metadata": {
        "id": "sNJxUiNf7oIp",
        "colab_type": "text"
      },
      "source": [
        "# Part 3"
      ]
    },
    {
      "cell_type": "code",
      "metadata": {
        "id": "qgL4ZHxl2Rfl",
        "colab_type": "code",
        "outputId": "aeb9691a-af36-48b0-903b-e2f9a878ec65",
        "colab": {
          "base_uri": "https://localhost:8080/",
          "height": 162
        }
      },
      "source": [
        "# What happens if something goes wrong\n",
        "# For example I print the variable  that does not exist\n",
        "print(qq)"
      ],
      "execution_count": 0,
      "outputs": [
        {
          "output_type": "error",
          "ename": "NameError",
          "evalue": "ignored",
          "traceback": [
            "\u001b[0;31m---------------------------------------------------------------------------\u001b[0m",
            "\u001b[0;31mNameError\u001b[0m                                 Traceback (most recent call last)",
            "\u001b[0;32m<ipython-input-29-6df244643c19>\u001b[0m in \u001b[0;36m<module>\u001b[0;34m()\u001b[0m\n\u001b[0;32m----> 1\u001b[0;31m \u001b[0mprint\u001b[0m\u001b[0;34m(\u001b[0m\u001b[0mqq\u001b[0m\u001b[0;34m)\u001b[0m\u001b[0;34m\u001b[0m\u001b[0;34m\u001b[0m\u001b[0m\n\u001b[0m",
            "\u001b[0;31mNameError\u001b[0m: name 'qq' is not defined"
          ]
        }
      ]
    },
    {
      "cell_type": "code",
      "metadata": {
        "id": "z-9te4Pw8Dq5",
        "colab_type": "code",
        "outputId": "27046b12-62cb-4b72-8ed0-ee206cd39c17",
        "colab": {
          "base_uri": "https://localhost:8080/",
          "height": 162
        }
      },
      "source": [
        "### Or if divide by zero\n",
        "1/0"
      ],
      "execution_count": 0,
      "outputs": [
        {
          "output_type": "error",
          "ename": "ZeroDivisionError",
          "evalue": "ignored",
          "traceback": [
            "\u001b[0;31m---------------------------------------------------------------------------\u001b[0m",
            "\u001b[0;31mZeroDivisionError\u001b[0m                         Traceback (most recent call last)",
            "\u001b[0;32m<ipython-input-30-9e1622b385b6>\u001b[0m in \u001b[0;36m<module>\u001b[0;34m()\u001b[0m\n\u001b[0;32m----> 1\u001b[0;31m \u001b[0;36m1\u001b[0m\u001b[0;34m/\u001b[0m\u001b[0;36m0\u001b[0m\u001b[0;34m\u001b[0m\u001b[0;34m\u001b[0m\u001b[0m\n\u001b[0m",
            "\u001b[0;31mZeroDivisionError\u001b[0m: division by zero"
          ]
        }
      ]
    },
    {
      "cell_type": "markdown",
      "metadata": {
        "id": "vvSFg5se8Nlf",
        "colab_type": "text"
      },
      "source": [
        "If the problem happens (you see an exception), you can just fix the issue and rerun the cell"
      ]
    },
    {
      "cell_type": "markdown",
      "metadata": {
        "id": "XzX6pdx69J6d",
        "colab_type": "text"
      },
      "source": [
        "# Part 4"
      ]
    },
    {
      "cell_type": "code",
      "metadata": {
        "id": "5XmSXr73731O",
        "colab_type": "code",
        "colab": {}
      },
      "source": [
        "# You can have also variables that are strings\n",
        "# They are written with double quotes or single quotes"
      ],
      "execution_count": 0,
      "outputs": []
    },
    {
      "cell_type": "code",
      "metadata": {
        "id": "0fePk5hb9ZyP",
        "colab_type": "code",
        "outputId": "7f9d2e7c-714b-40dc-89f2-30e3abb36281",
        "colab": {
          "base_uri": "https://localhost:8080/",
          "height": 34
        }
      },
      "source": [
        "print(\"hello\")"
      ],
      "execution_count": 0,
      "outputs": [
        {
          "output_type": "stream",
          "text": [
            "hello\n"
          ],
          "name": "stdout"
        }
      ]
    },
    {
      "cell_type": "code",
      "metadata": {
        "id": "PZ10Vda69d94",
        "colab_type": "code",
        "outputId": "9bb6282d-e97b-4fd1-bd25-9c06e72b7ffe",
        "colab": {
          "base_uri": "https://localhost:8080/",
          "height": 34
        }
      },
      "source": [
        "sx=\"I am x\"\n",
        "sy='I am y'\n",
        "print (sx)"
      ],
      "execution_count": 0,
      "outputs": [
        {
          "output_type": "stream",
          "text": [
            "I am x\n"
          ],
          "name": "stdout"
        }
      ]
    },
    {
      "cell_type": "code",
      "metadata": {
        "id": "TSpQz2lC9mIZ",
        "colab_type": "code",
        "outputId": "9a140987-2e67-443b-80cf-abd3e623cb12",
        "colab": {
          "base_uri": "https://localhost:8080/",
          "height": 34
        }
      },
      "source": [
        "print (sy)"
      ],
      "execution_count": 0,
      "outputs": [
        {
          "output_type": "stream",
          "text": [
            "I am y\n"
          ],
          "name": "stdout"
        }
      ]
    },
    {
      "cell_type": "markdown",
      "metadata": {
        "id": "ikiffrIH-A_p",
        "colab_type": "text"
      },
      "source": [
        "# **Part 5**"
      ]
    },
    {
      "cell_type": "code",
      "metadata": {
        "id": "GX8rU1yb-DCL",
        "colab_type": "code",
        "colab": {}
      },
      "source": [
        "# Some mathematical functions\n",
        "# The full list is here https://docs.scipy.org/doc/numpy/reference/"
      ],
      "execution_count": 0,
      "outputs": []
    },
    {
      "cell_type": "code",
      "metadata": {
        "id": "WYLH0FcuA_m_",
        "colab_type": "code",
        "outputId": "413c0c34-56f9-44af-e120-03882bb9d7ec",
        "colab": {
          "base_uri": "https://localhost:8080/",
          "height": 34
        }
      },
      "source": [
        "print (np.sin(3.))"
      ],
      "execution_count": 0,
      "outputs": [
        {
          "output_type": "stream",
          "text": [
            "0.1411200080598672\n"
          ],
          "name": "stdout"
        }
      ]
    },
    {
      "cell_type": "code",
      "metadata": {
        "id": "GNSqurrcBUoo",
        "colab_type": "code",
        "outputId": "399efbc0-0840-48d4-a133-a7e94ec85855",
        "colab": {
          "base_uri": "https://localhost:8080/",
          "height": 34
        }
      },
      "source": [
        "print (np.sqrt(2), np.cos(4), np.tan(5), np.arctan(4), np.deg2rad(60), np.rad2deg(1), np.arcsin(0.1))\n",
        "# Square root, cosine, tangent, arctangent, degrees to radians, radians to degrees, arcsin"
      ],
      "execution_count": 0,
      "outputs": [
        {
          "output_type": "stream",
          "text": [
            "1.4142135623730951 -0.6536436208636119 -3.380515006246586 1.3258176636680326 1.0471975511965976 57.29577951308232\n"
          ],
          "name": "stdout"
        }
      ]
    },
    {
      "cell_type": "code",
      "metadata": {
        "id": "OFkAyKEgBgTL",
        "colab_type": "code",
        "outputId": "f996a2f9-2eee-4531-861c-30848d150112",
        "colab": {
          "base_uri": "https://localhost:8080/",
          "height": 34
        }
      },
      "source": [
        "print (np.round(2.2), np.exp(4), np.log(55), np.log10(100))\n",
        "# rounding, exponent, natural logarithm, log base 10"
      ],
      "execution_count": 0,
      "outputs": [
        {
          "output_type": "stream",
          "text": [
            "2.0 54.598150033144236 4.007333185232471 2.0\n"
          ],
          "name": "stdout"
        }
      ]
    },
    {
      "cell_type": "code",
      "metadata": {
        "id": "sHiZ6gqJBxri",
        "colab_type": "code",
        "outputId": "b2c87c71-5d6b-4de7-fdf0-0976477f9608",
        "colab": {
          "base_uri": "https://localhost:8080/",
          "height": 34
        }
      },
      "source": [
        "print (np.rad2deg(np.arctan2(np.sqrt(3),1)))"
      ],
      "execution_count": 0,
      "outputs": [
        {
          "output_type": "stream",
          "text": [
            "59.99999999999999\n"
          ],
          "name": "stdout"
        }
      ]
    },
    {
      "cell_type": "code",
      "metadata": {
        "id": "NYR7pjc3B9WC",
        "colab_type": "code",
        "colab": {}
      },
      "source": [
        ""
      ],
      "execution_count": 0,
      "outputs": []
    },
    {
      "cell_type": "markdown",
      "metadata": {
        "id": "m1fFDGooETPg",
        "colab_type": "text"
      },
      "source": [
        "# Part 6"
      ]
    },
    {
      "cell_type": "code",
      "metadata": {
        "id": "jfftIy4WEVuW",
        "colab_type": "code",
        "outputId": "851f756d-2d0d-4b88-92ac-f8d766aa6502",
        "colab": {
          "base_uri": "https://localhost:8080/",
          "height": 34
        }
      },
      "source": [
        "# The great thing about Python are arrays !\n",
        "# They are like table columns\n",
        "ax = np.array([1.,2,3,4,5])\n",
        "print (ax)"
      ],
      "execution_count": 0,
      "outputs": [
        {
          "output_type": "stream",
          "text": [
            "[1. 2. 3. 4. 5.]\n"
          ],
          "name": "stdout"
        }
      ]
    },
    {
      "cell_type": "code",
      "metadata": {
        "id": "j1ZNSw3IEkdE",
        "colab_type": "code",
        "outputId": "a3f26cc8-a4eb-4a9d-f50f-cc88663905ee",
        "colab": {
          "base_uri": "https://localhost:8080/",
          "height": 34
        }
      },
      "source": [
        "# You can work with arrays like with numbers\n",
        "# The operations will be applied per element\n",
        "bx = np.array([-5,-3,0,2,1])\n",
        "print (2+ax*3 + bx*4)"
      ],
      "execution_count": 0,
      "outputs": [
        {
          "output_type": "stream",
          "text": [
            "[-15.  -4.  11.  22.  21.]\n"
          ],
          "name": "stdout"
        }
      ]
    },
    {
      "cell_type": "code",
      "metadata": {
        "id": "5r_F5ikpFJX0",
        "colab_type": "code",
        "outputId": "6712c2a7-bc6d-4766-9c66-5c0daa35ec4e",
        "colab": {
          "base_uri": "https://localhost:8080/",
          "height": 34
        }
      },
      "source": [
        "# we can apply any mathematical functions to them\n",
        "print (np.sin(ax))"
      ],
      "execution_count": 0,
      "outputs": [
        {
          "output_type": "stream",
          "text": [
            "[ 0.84147098  0.90929743  0.14112001 -0.7568025  -0.95892427]\n"
          ],
          "name": "stdout"
        }
      ]
    },
    {
      "cell_type": "code",
      "metadata": {
        "id": "sJLuGGmaFU8q",
        "colab_type": "code",
        "outputId": "5c329357-f376-4eb0-c499-53eb61deb1c0",
        "colab": {
          "base_uri": "https://localhost:8080/",
          "height": 34
        }
      },
      "source": [
        "print(ax**bx)"
      ],
      "execution_count": 0,
      "outputs": [
        {
          "output_type": "stream",
          "text": [
            "[ 1.     0.125  1.    16.     5.   ]\n"
          ],
          "name": "stdout"
        }
      ]
    },
    {
      "cell_type": "markdown",
      "metadata": {
        "id": "nbiHQRGAGp3Z",
        "colab_type": "text"
      },
      "source": [
        "# **Part 7**"
      ]
    },
    {
      "cell_type": "code",
      "metadata": {
        "id": "FUpIOSiAGqxZ",
        "colab_type": "code",
        "outputId": "9b8c2241-1b66-4809-f65b-2511a63c960b",
        "colab": {
          "base_uri": "https://localhost:8080/",
          "height": 50
        }
      },
      "source": [
        "# You can create an array filled with zeros or ones\n",
        "az = np.ones(10)\n",
        "bz = np.zeros(3)\n",
        "print (az)\n",
        "print (bz)"
      ],
      "execution_count": 0,
      "outputs": [
        {
          "output_type": "stream",
          "text": [
            "[1. 1. 1. 1. 1. 1. 1. 1. 1. 1.]\n",
            "[0. 0. 0.]\n"
          ],
          "name": "stdout"
        }
      ]
    },
    {
      "cell_type": "code",
      "metadata": {
        "id": "jObF3sQoGwY_",
        "colab_type": "code",
        "outputId": "e774c69c-daa0-4d43-f1f9-ee701c05efc8",
        "colab": {
          "base_uri": "https://localhost:8080/",
          "height": 162
        }
      },
      "source": [
        "# You can do operations only with array of the same legth\n",
        "az+bz"
      ],
      "execution_count": 0,
      "outputs": [
        {
          "output_type": "error",
          "ename": "ValueError",
          "evalue": "ignored",
          "traceback": [
            "\u001b[0;31m---------------------------------------------------------------------------\u001b[0m",
            "\u001b[0;31mValueError\u001b[0m                                Traceback (most recent call last)",
            "\u001b[0;32m<ipython-input-65-d2baf9abe78d>\u001b[0m in \u001b[0;36m<module>\u001b[0;34m()\u001b[0m\n\u001b[0;32m----> 1\u001b[0;31m \u001b[0maz\u001b[0m\u001b[0;34m+\u001b[0m\u001b[0mbz\u001b[0m\u001b[0;34m\u001b[0m\u001b[0;34m\u001b[0m\u001b[0m\n\u001b[0m",
            "\u001b[0;31mValueError\u001b[0m: operands could not be broadcast together with shapes (10,) (3,) "
          ]
        }
      ]
    },
    {
      "cell_type": "code",
      "metadata": {
        "id": "VQ34xcySHFT9",
        "colab_type": "code",
        "outputId": "a06a3b0c-e5f7-4e39-bcd8-0993d427290f",
        "colab": {
          "base_uri": "https://localhost:8080/",
          "height": 50
        }
      },
      "source": [
        "# You can Sum or compute the product of the whole array\n",
        "tz = np.array([5,7,8])\n",
        "print(np.sum(tz))\n",
        "print(np.prod(tz))"
      ],
      "execution_count": 0,
      "outputs": [
        {
          "output_type": "stream",
          "text": [
            "20\n",
            "280\n"
          ],
          "name": "stdout"
        }
      ]
    },
    {
      "cell_type": "code",
      "metadata": {
        "id": "qWHtK-JnH9Uc",
        "colab_type": "code",
        "outputId": "d27ef19f-19a3-4ddb-b18a-0aea09ddd624",
        "colab": {
          "base_uri": "https://localhost:8080/",
          "height": 35
        }
      },
      "source": [
        "# Minimum and maximum\n",
        "print(np.min(tz),np.max(tz))"
      ],
      "execution_count": 0,
      "outputs": [
        {
          "output_type": "stream",
          "text": [
            "5 8\n"
          ],
          "name": "stdout"
        }
      ]
    },
    {
      "cell_type": "markdown",
      "metadata": {
        "id": "Jqk75whOTgL3",
        "colab_type": "text"
      },
      "source": [
        "# Part 8"
      ]
    },
    {
      "cell_type": "code",
      "metadata": {
        "id": "jvhiRVpSSAiS",
        "colab_type": "code",
        "outputId": "22872d8f-9dc7-4115-dca0-6551292adb7d",
        "colab": {
          "base_uri": "https://localhost:8080/",
          "height": 35
        }
      },
      "source": [
        "# you Can access individual elements (starting from zero)\n",
        "q=np.array([10,20,12,-1.])\n",
        "print (q[0],q[1],q[3])"
      ],
      "execution_count": 0,
      "outputs": [
        {
          "output_type": "stream",
          "text": [
            "10.0 20.0 -1.0\n"
          ],
          "name": "stdout"
        }
      ]
    },
    {
      "cell_type": "code",
      "metadata": {
        "id": "aSYeECtgT10B",
        "colab_type": "code",
        "outputId": "3a001fcf-da8a-4ba4-8b7f-7b6af4d89039",
        "colab": {
          "base_uri": "https://localhost:8080/",
          "height": 35
        }
      },
      "source": [
        "# You can find the location of maximal/minimal element\n",
        "print (np.argmax(q),np.argmin(q))"
      ],
      "execution_count": 0,
      "outputs": [
        {
          "output_type": "stream",
          "text": [
            "1 3\n"
          ],
          "name": "stdout"
        }
      ]
    },
    {
      "cell_type": "code",
      "metadata": {
        "id": "52rWGOu1V-M3",
        "colab_type": "code",
        "colab": {
          "base_uri": "https://localhost:8080/",
          "height": 53
        },
        "outputId": "fc60f651-6bf0-4218-fe93-ade3c37b4737"
      },
      "source": [
        "# Subscripting\n",
        "# You can use arrays to select subsets\n",
        "x = np.array([1,2,3,4,5,6,7,8])\n",
        "y = 1-x\n",
        "subset = (x>3) & (x<7) \n",
        "# This is the definition of the subset \n",
        "print (x[subset])\n",
        "yy = y[subset]\n",
        "print (yy)"
      ],
      "execution_count": 75,
      "outputs": [
        {
          "output_type": "stream",
          "text": [
            "[4 5 6]\n",
            "[-3 -4 -5]\n"
          ],
          "name": "stdout"
        }
      ]
    }
  ]
}