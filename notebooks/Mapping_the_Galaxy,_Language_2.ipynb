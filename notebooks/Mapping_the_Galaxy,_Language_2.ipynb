{
  "nbformat": 4,
  "nbformat_minor": 0,
  "metadata": {
    "colab": {
      "name": "Mapping the Galaxy, Language 2",
      "provenance": [],
      "include_colab_link": true
    },
    "kernelspec": {
      "name": "python3",
      "display_name": "Python 3"
    }
  },
  "cells": [
    {
      "cell_type": "markdown",
      "metadata": {
        "id": "view-in-github",
        "colab_type": "text"
      },
      "source": [
        "<a href=\"https://colab.research.google.com/github/segasai/mapping_the_galaxy_course_cmu/blob/master/notebooks/Mapping_the_Galaxy%2C_Language_2.ipynb\" target=\"_parent\"><img src=\"https://colab.research.google.com/assets/colab-badge.svg\" alt=\"Open In Colab\"/></a>"
      ]
    },
    {
      "cell_type": "code",
      "metadata": {
        "id": "A6IgXHi3XvvO",
        "colab_type": "code",
        "colab": {}
      },
      "source": [
        "import numpy as np\n",
        "import math\n",
        "import matplotlib.pyplot as plt\n",
	"import pandas as pd\n",
	"from google.colab import files\n",
        "# Some magick you will need in every program of the Course\n",
        "# This will load some functionality you will need later"
      ],
      "execution_count": 0,
      "outputs": []
    },
    {
      "cell_type": "code",
      "metadata": {
        "id": "g-UjLLNBahUq",
        "colab_type": "code",
        "colab": {
          "base_uri": "https://localhost:8080/",
          "height": 283
        },
        "outputId": "07cd8450-f859-46a2-d38e-fec47dd7c55d"
      },
      "source": [
        "# Plotting is  the main way we look at the data\n",
        "# The main plot is a scatter-plot\n",
        "x=np.array([1,2,3,4,5,6,8,9])\n",
        "y=np.array([10,9,7,5,4,3,3,2])\n",
        "plt.plot(x,y,'.')"
      ],
      "execution_count": 3,
      "outputs": [
        {
          "output_type": "execute_result",
          "data": {
            "text/plain": [
              "[<matplotlib.lines.Line2D at 0x7f845f5f1358>]"
            ]
          },
          "metadata": {
            "tags": []
          },
          "execution_count": 3
        },
        {
          "output_type": "display_data",
          "data": {
            "image/png": "[encoded data removed]",
            "text/plain": [
              "<Figure size 432x288 with 1 Axes>"
            ]
          },
          "metadata": {
            "tags": []
          }
        }
      ]
    },
    {
      "cell_type": "code",
      "metadata": {
        "id": "vsxotO39bNeQ",
        "colab_type": "code",
        "colab": {
          "base_uri": "https://localhost:8080/",
          "height": 283
        },
        "outputId": "48d7d0be-dc1f-407b-eaab-d29fe55d7755"
      },
      "source": [
        "plt.plot(x,y,'o')"
      ],
      "execution_count": 4,
      "outputs": [
        {
          "output_type": "execute_result",
          "data": {
            "text/plain": [
              "[<matplotlib.lines.Line2D at 0x7f845f56c128>]"
            ]
          },
          "metadata": {
            "tags": []
          },
          "execution_count": 4
        },
        {
          "output_type": "display_data",
          "data": {
            "image/png": "[encoded data removed]",
            "text/plain": [
              "<Figure size 432x288 with 1 Axes>"
            ]
          },
          "metadata": {
            "tags": []
          }
        }
      ]
    },
    {
      "cell_type": "code",
      "metadata": {
        "id": "1TSfdjLFbSQ9",
        "colab_type": "code",
        "colab": {
          "base_uri": "https://localhost:8080/",
          "height": 283
        },
        "outputId": "81393dc3-4670-490b-b451-9f118b8e79c1"
      },
      "source": [
        "plt.plot(x,y)"
      ],
      "execution_count": 5,
      "outputs": [
        {
          "output_type": "execute_result",
          "data": {
            "text/plain": [
              "[<matplotlib.lines.Line2D at 0x7f845f555208>]"
            ]
          },
          "metadata": {
            "tags": []
          },
          "execution_count": 5
        },
        {
          "output_type": "display_data",
          "data": {
            "image/png": "[encoded data removed]",
            "text/plain": [
              "<Figure size 432x288 with 1 Axes>"
            ]
          },
          "metadata": {
            "tags": []
          }
        }
      ]
    },
    {
      "cell_type": "code",
      "metadata": {
        "id": "c2lDO2ZXbcCP",
        "colab_type": "code",
        "colab": {
          "base_uri": "https://localhost:8080/",
          "height": 283
        },
        "outputId": "9e98a6f7-ec30-4d00-96e2-d2146d55aa77"
      },
      "source": [
        "# You can combine multiple plots and change the color of points/lines by using different letters\n",
        "# b : blue, g : green, r : red, c : cyan, m : magenta, y : yellow, k : black, w : white\n",
        "plt.plot(x,y,'r.')\n",
        "plt.plot(x,3*y,'b.')"
      ],
      "execution_count": 6,
      "outputs": [
        {
          "output_type": "execute_result",
          "data": {
            "text/plain": [
              "[<matplotlib.lines.Line2D at 0x7f845f555550>]"
            ]
          },
          "metadata": {
            "tags": []
          },
          "execution_count": 6
        },
        {
          "output_type": "display_data",
          "data": {
            "image/png": "[encoded data removed]",
            "text/plain": [
              "<Figure size 432x288 with 1 Axes>"
            ]
          },
          "metadata": {
            "tags": []
          }
        }
      ]
    },
    {
      "cell_type": "code",
      "metadata": {
        "id": "bFLID5t9csQj",
        "colab_type": "code",
        "colab": {
          "base_uri": "https://localhost:8080/",
          "height": 287
        },
        "outputId": "3712db59-d428-468a-833e-664c9fc32f74"
      },
      "source": [
        "plt.plot(x,y,'r.')\n",
        "plt.xlim(2,6)\n",
        "plt.ylim(-5,12)\n",
        "# You can specify the region to zoom in by specifying the range for the x-axis and y-axis"
      ],
      "execution_count": 8,
      "outputs": [
        {
          "output_type": "execute_result",
          "data": {
            "text/plain": [
              "(-5, 12)"
            ]
          },
          "metadata": {
            "tags": []
          },
          "execution_count": 8
        },
        {
          "output_type": "display_data",
          "data": {
            "image/png": "[encoded data removed]",
            "text/plain": [
              "<Figure size 432x288 with 1 Axes>"
            ]
          },
          "metadata": {
            "tags": []
          }
        }
      ]
    },
    {
      "cell_type": "code",
      "metadata": {
        "id": "kas2nkrZdKDL",
        "colab_type": "code",
        "colab": {
          "base_uri": "https://localhost:8080/",
          "height": 297
        },
        "outputId": "faf4e0e9-6447-42b7-d1d3-0c56d0faf882"
      },
      "source": [
        "plt.plot(x,y,'r.')\n",
        "# Axis labels\n",
        "plt.xlabel('Distance [kpc]')\n",
        "plt.ylabel('proper motion [mas/yr]')\n"
      ],
      "execution_count": 9,
      "outputs": [
        {
          "output_type": "execute_result",
          "data": {
            "text/plain": [
              "Text(0, 0.5, 'proper motion [mas/yr]')"
            ]
          },
          "metadata": {
            "tags": []
          },
          "execution_count": 9
        },
        {
          "output_type": "display_data",
          "data": {
            "image/png": "[encoded data removed]",
            "text/plain": [
              "<Figure size 432x288 with 1 Axes>"
            ]
          },
          "metadata": {
            "tags": []
          }
        }
      ]
    },
    {
      "cell_type": "markdown",
      "metadata": {
        "id": "Zl2at3RTeUab",
        "colab_type": "text"
      },
      "source": [
        "## **Part 2**\n",
        "An import type of plot that is useful when you have many datapoints is a histogram. The histogram does not show every point but shows how many points there are in a given range "
      ]
    },
    {
      "cell_type": "code",
      "metadata": {
        "id": "CzrHBLcweSMP",
        "colab_type": "code",
        "colab": {
          "base_uri": "https://localhost:8080/",
          "height": 319
        },
        "outputId": "9c633e5b-f10f-45ef-a564-2cb9cb8bd8fc"
      },
      "source": [
        "x=np.array([1,2,3,4,5,1,1,1,1,1,2,2,2,4,4,10,9])\n",
        "plt.hist(x)"
      ],
      "execution_count": 12,
      "outputs": [
        {
          "output_type": "execute_result",
          "data": {
            "text/plain": [
              "(array([6., 4., 1., 3., 1., 0., 0., 0., 1., 1.]),\n",
              " array([ 1. ,  1.9,  2.8,  3.7,  4.6,  5.5,  6.4,  7.3,  8.2,  9.1, 10. ]),\n",
              " <a list of 10 Patch objects>)"
            ]
          },
          "metadata": {
            "tags": []
          },
          "execution_count": 12
        },
        {
          "output_type": "display_data",
          "data": {
            "image/png": "[encoded data removed]",
            "text/plain": [
              "<Figure size 432x288 with 1 Axes>"
            ]
          },
          "metadata": {
            "tags": []
          }
        }
      ]
    },
    {
      "cell_type": "code",
      "metadata": {
        "id": "UTOrMFdOfIeM",
        "colab_type": "code",
        "colab": {
          "base_uri": "https://localhost:8080/",
          "height": 319
        },
        "outputId": "2146deba-03da-48b6-ae46-8b9ef47f4276"
      },
      "source": [
        "plt.hist(10*x)"
      ],
      "execution_count": 13,
      "outputs": [
        {
          "output_type": "execute_result",
          "data": {
            "text/plain": [
              "(array([6., 4., 1., 3., 1., 0., 0., 0., 1., 1.]),\n",
              " array([ 10.,  19.,  28.,  37.,  46.,  55.,  64.,  73.,  82.,  91., 100.]),\n",
              " <a list of 10 Patch objects>)"
            ]
          },
          "metadata": {
            "tags": []
          },
          "execution_count": 13
        },
        {
          "output_type": "display_data",
          "data": {
            "image/png": "[encoded data removed]",
            "text/plain": [
              "<Figure size 432x288 with 1 Axes>"
            ]
          },
          "metadata": {
            "tags": []
          }
        }
      ]
    },
    {
      "cell_type": "code",
      "metadata": {
        "id": "aq4LoVl6fReV",
        "colab_type": "code",
        "colab": {
          "base_uri": "https://localhost:8080/",
          "height": 355
        },
        "outputId": "693a9755-783d-445f-80c0-a0636237a001"
      },
      "source": [
        "# Histogram with a certain range and different number of bins\n",
        "plt.hist(10*x,range=[20,60],bins=20)"
      ],
      "execution_count": 14,
      "outputs": [
        {
          "output_type": "execute_result",
          "data": {
            "text/plain": [
              "(array([4., 0., 0., 0., 0., 1., 0., 0., 0., 0., 3., 0., 0., 0., 0., 1., 0.,\n",
              "        0., 0., 0.]),\n",
              " array([20., 22., 24., 26., 28., 30., 32., 34., 36., 38., 40., 42., 44.,\n",
              "        46., 48., 50., 52., 54., 56., 58., 60.]),\n",
              " <a list of 20 Patch objects>)"
            ]
          },
          "metadata": {
            "tags": []
          },
          "execution_count": 14
        },
        {
          "output_type": "display_data",
          "data": {
            "image/png": "[encoded data removed]",
            "text/plain": [
              "<Figure size 432x288 with 1 Axes>"
            ]
          },
          "metadata": {
            "tags": []
          }
        }
      ]
    },
    {
      "cell_type": "code",
      "metadata": {
        "id": "YDBLjpSXkNPY",
        "colab_type": "code",
        "colab": {}
      },
      "source": [
        "### Very big dataset\n",
        "\n",
        "xbig=np.array([1.18984017e+00, 3.42954608e+00, 6.96643022e+00, 3.19046380e+00,\n",
        "       6.22586535e+00, 6.24522595e-01, 4.53979533e+00, 2.14444992e+00,\n",
        "       1.30097895e-01, 7.84214924e+00, 1.48447206e+00, 3.52892369e+00,\n",
        "       3.38891736e+00, 1.97353658e-01, 3.47241555e-01, 4.43850016e-01,\n",
        "       2.16013352e-01, 2.51150492e+00, 3.00047175e+00, 1.85365269e-03,\n",
        "       2.54157118e-01, 5.25681116e-01, 3.14726613e+00, 6.95129774e+00,\n",
        "       2.54232862e+00, 6.29215459e+00, 2.50586421e-04, 2.38291232e-02,\n",
        "       2.18289810e+00, 8.72390801e-01, 8.54861292e-01, 6.09328090e+00,\n",
        "       7.12028547e+00, 8.48938294e+00, 4.07482431e+00, 6.43320457e+00,\n",
        "       5.31727055e+00, 3.40645242e+00, 3.39296358e+00, 7.89114740e+00,\n",
        "       4.22175510e+00, 7.82303849e+00, 1.41672263e-01, 1.23474404e+00,\n",
        "       1.13717161e+00, 5.16400013e+00, 6.62359493e-01, 4.60569096e+00,\n",
        "       3.45109927e+00, 5.90045050e+00, 3.13740579e-01, 5.57730942e+00,\n",
        "       1.26262902e-01, 7.59860323e-01, 5.82801862e+00, 8.34285205e+00,\n",
        "       3.27647643e-01, 6.19665800e-01, 4.56837040e+00, 6.77671467e-01,\n",
        "       6.09198203e-01, 8.23850758e-01, 6.35955398e+00, 1.80878032e-02,\n",
        "       5.23804098e-01, 1.35408614e-01, 2.07169028e-02, 8.97664725e+00,\n",
        "       8.06321558e-02, 3.09164922e+00, 3.49959508e+00, 7.67839910e+00,\n",
        "       1.08133923e+00, 8.76483625e-01, 6.85830381e+00, 1.00698969e-02,\n",
        "       1.68643877e+00, 6.41526001e+00, 1.72713348e+00, 3.76071562e-02,\n",
        "       2.17059656e+00, 6.56058116e+00, 4.79349517e-01, 6.23342209e+00,\n",
        "       5.04464221e-03, 3.75848543e-01, 4.56195385e+00, 8.69434284e-01,\n",
        "       3.13507861e-01, 1.61500343e-01, 1.75280374e-01, 1.29516174e+00,\n",
        "       6.03738872e-01, 1.95221166e+00, 1.95998084e-01, 2.47497025e-04,\n",
        "       7.11680675e-02, 2.52550628e-01, 6.90709001e+00, 1.18766285e+00,\n",
        "       6.42800286e+00, 4.04215203e+00, 7.63855520e-01, 1.01615628e+00,\n",
        "       3.02266975e-02, 5.93445425e-01, 1.39972204e+00, 1.49856175e+00,\n",
        "       3.13677875e+00, 8.44393549e+00, 7.64831792e+00, 1.31795881e+00,\n",
        "       1.29869240e+00, 1.10524523e+00, 1.34831182e+00, 1.28172532e+00,\n",
        "       2.32122812e-01, 3.78700505e+00, 8.48931402e-03, 3.90593200e+00,\n",
        "       7.62661687e-01, 1.10281731e+00, 2.25806476e+00, 7.72262942e-02,\n",
        "       3.33599104e+00, 3.02653520e-01, 5.86219092e+00, 3.53064199e-02,\n",
        "       8.17799119e+00, 6.01653076e-01, 8.24539415e+00, 8.78871774e-01,\n",
        "       6.27534630e-01, 7.60676907e+00, 8.65853327e+00, 8.91748871e-01,\n",
        "       1.68973155e+00, 6.84673866e+00, 1.52854660e+00, 2.34687524e+00,\n",
        "       1.16679614e+00, 3.91674327e+00, 6.99172590e+00, 2.48701138e+00,\n",
        "       6.81469017e-01, 3.85052117e-01, 4.53745727e-02, 6.12852549e+00,\n",
        "       1.00845676e+00, 1.40329447e+00, 6.71526452e+00, 5.21164237e+00,\n",
        "       5.02037680e+00, 2.76379659e+00, 5.70597691e+00, 4.80649798e+00,\n",
        "       8.38897614e-01, 2.29246440e+00, 1.91929449e+00, 1.95880608e-02,\n",
        "       3.16061311e+00, 1.42177377e+00, 5.91923325e+00, 5.96421626e+00,\n",
        "       1.55107232e+00, 8.11808443e+00, 8.53991190e-01, 1.78336999e-01,\n",
        "       3.69052776e+00, 8.16803898e-01, 7.26761703e+00, 1.34553231e+00,\n",
        "       2.05546861e+00, 8.86716514e+00, 1.97866082e+00, 4.00149125e+00,\n",
        "       1.67682304e-03, 1.48521097e+00, 5.13240287e+00, 2.70519998e+00,\n",
        "       5.61218745e-01, 3.60100243e+00, 3.42908333e+00, 2.70276111e-01,\n",
        "       5.39450377e+00, 4.36010659e+00, 7.49927856e-01, 1.87411818e+00,\n",
        "       7.15505737e+00, 1.08913052e+00, 5.80398879e+00, 2.72543507e+00,\n",
        "       3.23062888e-01, 5.50602779e-01, 6.07702418e+00, 8.40525094e+00,\n",
        "       1.92725395e+00, 5.87193489e-01, 1.29759075e-01, 4.09951950e+00,\n",
        "       2.89210814e+00, 3.03059125e+00, 3.40494243e+00, 6.14376102e+00,\n",
        "       2.08096690e+00, 6.73184305e-01, 2.69181276e-01, 8.86838018e+00,\n",
        "       6.65824847e+00, 8.44418560e+00, 7.44071135e+00, 3.23148020e-02,\n",
        "       1.01692248e+00, 1.71711474e+00, 9.47610185e-01, 7.52189110e+00,\n",
        "       1.51052152e+00, 1.22459372e+00, 6.59217472e+00, 8.32051976e+00,\n",
        "       2.11971943e+00, 6.47569681e+00, 4.20402182e-01, 7.48912593e+00,\n",
        "       4.35126190e+00, 1.29012595e+00, 1.09972678e-03, 5.14643424e-01,\n",
        "       4.39205333e-01, 5.47827062e+00, 3.04860996e+00, 5.35503921e-01,\n",
        "       1.95687332e+00, 1.78112808e+00, 4.06996749e+00, 1.91862243e-02,\n",
        "       3.49508033e-02, 1.16804453e-01, 6.03774532e+00, 2.45164117e+00,\n",
        "       5.08963438e+00, 3.84910904e+00, 1.06301537e+00, 6.76828277e+00,\n",
        "       1.40051362e+00, 3.57593454e+00, 3.69586290e+00, 7.16954154e+00,\n",
        "       1.04406335e-01, 6.66979566e-01, 7.17061030e+00, 1.30442467e+00,\n",
        "       4.96436981e-02, 5.12099726e-04, 1.07769871e+00, 5.77579765e+00,\n",
        "       5.77970844e+00, 1.44641224e-02, 2.64071956e+00, 8.54772985e-02,\n",
        "       6.32635431e+00, 6.50910000e+00, 1.55214102e+00, 1.53943724e+00,\n",
        "       3.61864076e+00, 4.48691633e-01, 3.85326566e+00, 3.99361033e+00,\n",
        "       1.18874273e+00, 5.58072044e+00, 3.50378112e+00, 4.14211496e+00,\n",
        "       1.81921360e+00, 3.64146282e-02, 1.91719130e-01, 4.73236546e-01,\n",
        "       2.73952718e+00, 5.95349499e+00, 1.50110448e+00, 2.67981110e+00,\n",
        "       4.05808278e+00, 2.91694587e+00, 2.65465861e+00, 3.95927298e-02,\n",
        "       6.83191752e-01, 8.65928117e+00, 8.25691152e+00, 7.90371180e+00,\n",
        "       1.06912396e-01, 6.58574997e-01, 8.80016944e+00, 9.48929840e-02,\n",
        "       4.61433399e+00, 8.64133018e-03, 2.27026468e+00, 5.12808406e+00,\n",
        "       2.37485358e-05, 1.38212644e+00, 1.42124427e+00, 8.85647897e+00,\n",
        "       3.38987503e-01, 2.35236858e+00, 2.96278672e+00, 1.70091611e-05,\n",
        "       1.41447406e+00, 9.09634705e-01, 3.55715721e+00, 8.17159560e+00,\n",
        "       1.73435415e+00, 4.26133217e+00, 5.87431338e-01, 4.07834623e+00,\n",
        "       3.01690215e-02, 5.86792579e+00, 1.47720081e-02, 4.57917664e-01,\n",
        "       4.22110041e+00, 7.39519483e+00, 1.85269175e+00, 4.81850093e-02,\n",
        "       7.58597975e-01, 6.73201950e+00, 2.10502895e+00, 7.99887543e-03,\n",
        "       1.89807883e+00, 2.52790908e-01, 8.71916026e-01, 2.15638301e+00,\n",
        "       6.38178668e+00, 2.60031610e+00, 2.90440414e+00, 1.18932448e+00,\n",
        "       5.62460771e+00, 7.63328574e+00, 1.88356934e+00, 3.27633637e-01,\n",
        "       5.18611884e+00, 6.51484812e+00, 1.37631304e+00, 4.28006412e+00,\n",
        "       1.15812445e+00, 1.85532740e+00, 1.06895116e-01, 3.81899921e+00,\n",
        "       6.13778282e+00, 6.63398157e-01, 3.25889040e+00, 4.49224646e+00,\n",
        "       3.25426171e-01, 1.64703458e+00, 3.68510565e-02, 1.29168855e+00,\n",
        "       6.43993734e+00, 4.08512395e-01, 3.20623797e-01, 7.32634149e+00,\n",
        "       6.63298616e+00, 5.04545276e+00, 2.59492349e-01, 4.61626876e+00,\n",
        "       2.51305538e+00, 4.80950365e-01, 9.59944700e-01, 3.74187275e-02,\n",
        "       5.21561867e-02, 1.01268085e+00, 3.62870317e+00, 3.94111102e+00,\n",
        "       9.33212131e-01, 1.50500396e+00, 2.03051765e+00, 7.74220807e+00,\n",
        "       2.63760326e-01, 7.63232171e+00, 8.82990177e+00, 1.15824638e+00,\n",
        "       8.51965250e-01, 3.77703789e+00, 1.21040509e+00, 1.67008638e+00,\n",
        "       1.55340805e+00, 2.64727215e+00, 6.14768003e+00, 2.59378313e+00,\n",
        "       3.56150717e+00, 8.30201112e+00, 5.70021174e+00, 8.47354027e-01,\n",
        "       6.11669447e-01, 2.03937337e-01, 4.76262017e+00, 3.24113875e-02,\n",
        "       7.55834712e-01, 9.91787433e-01, 1.53745297e+00, 3.33463057e+00,\n",
        "       1.31222245e-02, 7.99480738e+00, 2.04585602e-03, 3.01718559e+00,\n",
        "       1.56070356e+00, 7.46137178e+00, 3.67501454e-03, 2.55048353e+00,\n",
        "       2.54388903e+00, 5.75580593e-02, 6.07713542e+00, 3.21226920e+00,\n",
        "       3.10333598e+00, 5.94888829e+00, 3.21634140e+00, 3.39840739e-01,\n",
        "       6.08371746e-01, 5.81431563e+00, 3.27129254e-01, 2.98417942e-02,\n",
        "       4.11730937e+00, 1.45031295e-01, 1.54581113e+00, 4.65563660e-01,\n",
        "       5.12925398e+00, 7.86205331e+00, 1.21538497e+00, 3.73826600e+00,\n",
        "       5.51853335e+00, 1.47282516e+00, 3.09020205e+00, 7.06746011e+00,\n",
        "       5.81860339e+00, 2.50720810e-02, 7.10203354e+00, 2.16733544e+00,\n",
        "       3.58816564e+00, 2.23064619e+00, 4.35022758e+00, 6.86520053e-01,\n",
        "       3.91707316e-01, 3.33630409e+00, 2.14627745e+00, 4.33089141e+00,\n",
        "       3.15046034e-02, 1.31316242e+00, 3.97866242e+00, 1.90703272e-04,\n",
        "       8.84516564e-01, 3.06785833e+00, 4.92234889e-01, 9.02297814e-01,\n",
        "       5.55220205e+00, 4.06212398e-01, 3.95932841e+00, 5.04337937e+00,\n",
        "       5.27020284e-01, 4.59372630e+00, 7.04870522e+00, 1.40052026e-01,\n",
        "       8.33362300e-01, 6.79808184e+00, 3.48088805e-02, 5.68868124e-01,\n",
        "       6.26098976e+00, 7.43652533e+00, 1.31547961e+00, 7.36254698e-02,\n",
        "       2.78968482e-02, 3.23082067e+00, 2.55125426e+00, 5.09997058e+00,\n",
        "       5.29506055e+00, 2.97441824e+00, 4.25520448e+00, 3.02998318e-01,\n",
        "       6.20720056e+00, 5.81500990e-01, 7.52171742e+00, 2.39242944e-01,\n",
        "       2.87620230e+00, 7.57175962e-02, 1.06775480e+00, 1.17333722e+00,\n",
        "       8.66547049e+00, 1.76824464e+00, 2.69146861e+00, 4.05577835e+00,\n",
        "       3.16468426e-01, 9.58817153e-01, 4.85483628e+00, 2.98534557e-01,\n",
        "       9.43089272e-01, 3.78668075e+00, 3.49104085e+00, 6.70542351e+00,\n",
        "       2.74671876e+00, 3.80756983e+00, 1.24766955e+00, 5.34991707e-01,\n",
        "       6.44252116e-01, 6.79779510e+00, 6.54039837e+00, 5.89868543e+00,\n",
        "       8.12463805e+00, 8.04961089e-03, 4.47703151e+00, 6.78366347e-01,\n",
        "       2.44151608e+00, 4.42055942e+00, 7.20207539e+00, 8.26965783e+00,\n",
        "       4.71141713e-01, 1.00270672e-01, 5.83703072e+00, 3.75170060e+00,\n",
        "       7.58843485e+00, 4.78276467e+00, 8.06541492e+00, 7.45411883e+00,\n",
        "       3.57229773e+00, 1.18346419e+00, 3.81932121e-01, 2.71522801e+00,\n",
        "       6.46721644e-01, 6.18637411e+00, 1.92305002e-01, 4.66641165e-01,\n",
        "       3.08152246e+00, 5.61806625e+00, 5.00150770e-01, 7.26047823e-01,\n",
        "       3.28853735e+00, 8.05320521e+00, 7.10980310e+00, 7.15077953e-01,\n",
        "       2.65665113e+00, 3.09496381e+00, 7.28647642e-02, 5.61972217e-03,\n",
        "       9.90156477e-02, 1.03674173e-03, 5.36668559e+00, 1.25104925e-01,\n",
        "       1.06933405e-02, 7.62362292e+00, 2.74278979e+00, 8.79176214e+00,\n",
        "       3.34688288e+00, 2.16816347e+00, 2.64131861e+00, 8.36976302e+00,\n",
        "       8.86738441e+00, 2.61737989e-01, 5.30054207e-01, 5.05490855e+00,\n",
        "       5.41257619e-01, 4.80596118e+00, 5.71710540e-01, 1.80132316e+00,\n",
        "       8.78533053e+00, 2.75167700e+00, 4.93988810e+00, 3.11563742e-01,\n",
        "       6.32797645e-01, 5.74401363e-02, 3.24481935e+00, 4.36601065e+00,\n",
        "       3.92849540e-01, 4.58090992e+00, 6.85327424e-01, 7.99435095e-01,\n",
        "       7.96069398e+00, 8.23220721e-01, 1.86415152e+00, 4.80267828e+00,\n",
        "       2.67825603e+00, 4.67339300e-01, 5.35641407e+00, 7.11088183e+00,\n",
        "       8.40352749e+00, 1.76327095e-01, 4.28800703e+00, 4.85319033e-01,\n",
        "       4.06092894e+00, 3.98075844e+00, 2.81463872e+00, 1.16552553e+00,\n",
        "       1.56209858e-03, 2.46784273e+00, 6.28171306e+00, 1.63561927e+00,\n",
        "       3.90184103e+00, 8.06026007e+00, 1.88063102e+00, 2.43492327e-01,\n",
        "       8.46633501e+00, 1.41648900e+00, 2.03653562e+00, 2.52908609e+00,\n",
        "       1.68991974e+00, 2.07021133e+00, 4.03718707e+00, 4.09672186e+00,\n",
        "       1.64181407e+00, 2.10647106e-01, 4.11722240e+00, 8.61455328e+00,\n",
        "       4.29687507e+00, 3.59550215e+00, 3.22976648e+00, 1.16872487e+00,\n",
        "       4.01983126e+00, 9.90701403e-01, 4.31487433e-01, 1.54321216e+00,\n",
        "       5.39650635e+00, 8.35095317e-01, 1.83066053e+00, 4.21935914e+00,\n",
        "       1.98423856e+00, 3.48572164e+00, 4.53500295e-01, 5.67646184e+00,\n",
        "       1.51037190e+00, 1.05410540e+00, 1.05742324e+00, 1.33756628e+00,\n",
        "       7.80083214e+00, 4.43812794e+00, 2.30429262e-03, 4.90735326e-02,\n",
        "       7.55902617e+00, 5.30168367e+00, 1.83225193e+00, 6.58472736e+00,\n",
        "       1.46770995e+00, 1.90966252e+00, 7.23309041e+00, 1.27763875e-01,\n",
        "       1.26761904e+00, 3.32010771e+00, 7.59014792e+00, 2.73994314e+00,\n",
        "       6.15383825e-01, 6.53110999e+00, 2.40394658e+00, 5.36000474e+00,\n",
        "       3.23574699e-01, 2.19012782e-01, 7.16963383e-01, 6.09972413e+00,\n",
        "       5.59174567e+00, 1.90502294e+00, 4.17751500e+00, 2.13409284e+00,\n",
        "       5.67298792e-03, 3.45270483e-01, 6.61053096e+00, 5.40180264e+00,\n",
        "       9.18453070e-02, 2.76668408e-01, 1.99022095e-02, 4.31641812e+00,\n",
        "       4.65562753e+00, 8.86329958e+00, 3.35204284e-02, 5.10028134e+00,\n",
        "       9.37523700e-01, 2.36316780e-01, 1.05085990e+00, 2.22930121e+00,\n",
        "       2.50269040e-01, 3.28301777e+00, 5.11405839e+00, 4.12535771e-01,\n",
        "       1.89573653e+00, 2.10988639e-01, 5.59397758e-01, 3.11693276e-02,\n",
        "       6.32758339e+00, 6.79237607e+00, 1.23473009e+00, 8.31599954e+00,\n",
        "       5.78361112e-01, 3.52402841e+00, 5.23887923e+00, 1.38317044e+00,\n",
        "       7.34612863e+00, 1.12005676e+00, 2.32624938e-01, 6.56761370e+00,\n",
        "       6.20355106e+00, 1.73235679e+00, 7.66509981e+00, 3.15219637e-01,\n",
        "       1.48371627e+00, 4.56659852e-01, 1.63453084e+00, 2.04848334e+00,\n",
        "       4.82043461e+00, 7.73980375e-01, 6.97282421e-01, 3.33881120e-01,\n",
        "       4.94315496e-05, 3.47064738e-01, 1.56076809e+00, 6.55404365e+00,\n",
        "       4.70177199e+00, 3.04393324e+00, 4.83618554e+00, 4.11915054e+00,\n",
        "       3.85530141e+00, 7.02882817e+00, 5.54567505e+00, 5.25372824e+00,\n",
        "       7.34913854e+00, 4.99448605e+00, 6.48242440e+00, 2.94606914e+00,\n",
        "       8.29004254e+00, 8.23281611e+00, 1.42866347e-01, 5.78616554e+00,\n",
        "       3.24698355e-01, 2.64516436e+00, 7.08152826e+00, 2.67882649e-01,\n",
        "       5.90556086e-01, 3.80791832e-01, 7.97594380e+00, 1.41675340e+00,\n",
        "       5.84832262e+00, 3.41841821e+00, 6.72850333e-04, 7.71465885e+00,\n",
        "       3.34288018e+00, 8.46621466e+00, 4.20618063e+00, 5.71772186e+00,\n",
        "       3.83370392e+00, 4.82053342e+00, 3.06730448e+00, 1.46025213e-02,\n",
        "       4.11682633e+00, 6.93663985e+00, 5.03679026e+00, 1.17999873e-01,\n",
        "       1.16154025e+00, 3.40920390e+00, 5.75709176e+00, 1.15414843e+00,\n",
        "       3.18613025e+00, 7.44361919e-01, 3.29045462e+00, 4.08211581e+00,\n",
        "       1.98714613e+00, 2.53423882e+00, 6.32942541e-01, 5.92384571e+00,\n",
        "       1.84307184e+00, 4.71488657e+00, 3.11005883e+00, 8.44630611e+00,\n",
        "       7.27735142e+00, 2.93654547e+00, 6.66124578e+00, 5.19793030e+00,\n",
        "       1.54893296e+00, 5.04447874e+00, 4.45466673e+00, 3.59980314e+00,\n",
        "       8.32595392e+00, 4.53042972e+00, 2.61748462e+00, 8.99054269e+00,\n",
        "       3.14387384e+00, 2.83379481e+00, 1.37325364e+00, 4.13657474e+00,\n",
        "       8.23080623e-01, 3.98109995e+00, 1.02686622e+00, 4.06280316e+00,\n",
        "       1.84043737e-03, 2.52935226e+00, 4.67446449e+00, 5.32701662e+00,\n",
        "       4.32283269e+00, 5.85237213e+00, 1.71629383e+00, 6.06832462e+00,\n",
        "       1.29468110e-01, 2.20920819e-03, 1.33549074e+00, 4.72880031e+00,\n",
        "       5.85602017e+00, 1.35161722e-02, 3.60422829e+00, 1.05179934e-01,\n",
        "       1.80653708e-02, 3.76043243e+00, 3.71539764e-01, 3.42972946e+00,\n",
        "       1.02263613e-01, 7.15249032e+00, 1.29030332e+00, 2.48512184e+00,\n",
        "       1.49475770e+00, 1.16925578e-01, 2.69334041e-01, 3.57807669e+00,\n",
        "       6.73729782e-01, 1.00032884e+00, 9.92994874e-01, 1.52999115e-01,\n",
        "       8.70058898e+00, 1.60951228e+00, 7.45105706e+00, 5.09680331e+00,\n",
        "       3.94559489e+00, 8.93603679e+00, 4.05126710e+00, 7.64518762e+00,\n",
        "       7.83771193e-03, 1.82471410e-01, 3.74382871e-02, 1.31795834e+00,\n",
        "       1.15389334e+00, 3.52691911e-01, 1.45394468e+00, 5.43518863e+00,\n",
        "       6.62060284e+00, 7.72753137e+00, 2.53436515e+00, 5.56161362e+00,\n",
        "       1.37844648e+00, 2.22401445e+00, 7.73261118e-01, 4.40147521e+00,\n",
        "       1.87098343e+00, 3.34916998e+00, 6.82654510e+00, 2.29862881e+00,\n",
        "       4.64574359e+00, 8.81253518e-03, 3.08626393e+00, 5.90104306e+00,\n",
        "       7.98089048e-02, 6.80056256e+00, 3.14799862e+00, 1.14186116e+00,\n",
        "       2.31860859e+00, 2.86728730e-03, 2.91785356e-01, 5.14878611e-03,\n",
        "       5.74197688e+00, 3.57993239e+00, 4.36043041e+00, 5.37702090e+00,\n",
        "       3.34080546e+00, 7.76389957e+00, 3.77988269e+00, 2.25657888e+00,\n",
        "       6.56117445e+00, 2.94626872e+00, 1.50354774e+00, 5.68068506e-02,\n",
        "       3.19562413e-01, 3.09222453e+00, 4.90676160e-01, 1.19682158e+00,\n",
        "       4.31994702e+00, 3.60354554e+00, 8.44359383e-02, 1.07794846e+00,\n",
        "       4.31659955e+00, 2.89257584e+00, 4.82252147e+00, 3.77835928e+00,\n",
        "       2.74429655e+00, 6.67883137e+00, 5.64081552e+00, 4.11157858e-02,\n",
        "       1.24138581e+00, 1.91094710e-02, 5.71838854e+00, 4.49954070e-01,\n",
        "       7.90253087e+00, 4.19391175e-01, 4.11273132e+00, 4.39835432e+00,\n",
        "       1.08110671e+00, 1.38344653e+00, 2.06077644e+00, 5.37678675e+00,\n",
        "       1.86446723e+00, 4.53433188e+00, 7.67363049e-02, 6.74600643e+00,\n",
        "       3.92650594e+00, 3.43672597e-01, 2.88122481e-01, 3.10025139e-01,\n",
        "       8.79124031e+00, 8.89560500e-03, 8.85018303e+00, 3.50038531e+00,\n",
        "       8.04888190e-01, 3.15830092e+00, 2.53010384e+00, 6.77199905e+00,\n",
        "       4.23383138e+00, 3.90317671e+00, 2.95488571e+00, 1.50225198e+00,\n",
        "       1.92679392e+00, 3.95028816e-01, 1.23419168e+00, 5.55936207e-03,\n",
        "       6.21532135e+00, 5.63354572e+00, 6.02545784e+00, 7.17792150e+00,\n",
        "       7.18700041e+00, 8.84843250e-02, 6.54894245e-01, 3.47574227e-02,\n",
        "       2.41668477e+00, 3.79172845e+00, 2.16397798e-04, 9.98420056e-01,\n",
        "       2.06341114e-01, 2.33764233e-01, 5.48404544e+00, 1.72943890e-02,\n",
        "       1.01729029e+00, 1.11323854e-02, 1.03608411e+00, 5.09212998e+00,\n",
        "       1.04775636e+00, 6.05044455e+00, 3.30366339e+00, 4.43345973e+00,\n",
        "       2.58488186e-01, 1.41887439e+00, 4.49881332e+00, 1.35229758e+00,\n",
        "       1.08993854e-02, 4.52889952e+00, 1.46269886e+00, 4.91822562e+00,\n",
        "       3.44351305e+00, 1.81921481e+00, 5.35227206e+00, 2.91130229e+00,\n",
        "       1.11113781e+00, 6.36585513e-01, 7.76538529e+00, 4.74451289e+00,\n",
        "       5.50461999e+00, 2.65782124e-01, 4.45576474e+00, 3.71113419e-01,\n",
        "       6.04869134e+00, 6.29011913e+00, 7.27419391e-03, 3.72512737e+00,\n",
        "       7.27125597e+00, 2.91597189e+00, 1.47120997e-02, 4.14643340e-01,\n",
        "       7.72275454e+00, 3.79832038e-01, 8.14910172e-01, 6.34473041e-01,\n",
        "       4.83922569e+00, 4.77780696e-01, 6.10538261e-01, 5.25402426e-01,\n",
        "       7.25523791e-01, 1.83619804e+00, 8.27910135e+00, 5.52194086e-01,\n",
        "       1.96116378e+00, 6.53756929e+00, 9.24815529e-01, 2.51631040e+00,\n",
        "       3.68645972e-01, 5.77629712e-01, 3.81082124e+00, 6.03277334e+00,\n",
        "       2.83509861e+00, 1.39631815e+00, 7.01983422e+00, 2.10251033e+00,\n",
        "       1.97537321e+00, 2.29604128e+00, 1.56228108e+00, 1.49815036e-01,\n",
        "       2.83022762e+00, 5.63624676e-02, 9.55174904e-02, 6.39565741e+00])\n",
        "                       \n",
        "ybig=np.array([4.97416608e+00, 9.44122163e+00, 7.11106736e+00, 2.22422396e+00,\n",
        "       8.44751347e+00, 2.36444352e+00, 6.76873166e+00, 6.49273936e+00,\n",
        "       3.80971528e+00, 8.36456539e+00, 8.64873365e+00, 3.15166043e+00,\n",
        "       4.13412958e+00, 7.10977970e+00, 9.59775060e+00, 3.54178708e-02,\n",
        "       2.78504284e+00, 1.09296445e+00, 1.63050646e+00, 9.03959325e+00,\n",
        "       2.31881689e+00, 9.05875331e+00, 7.73286952e+00, 7.45630972e-01,\n",
        "       2.59976107e+00, 5.64740013e-03, 7.25261504e+00, 6.32174669e+00,\n",
        "       5.10029961e+00, 7.43457399e+00, 5.98487308e+00, 6.27579318e+00,\n",
        "       4.04294937e+00, 8.46414590e+00, 2.35465864e+00, 2.85981037e+00,\n",
        "       4.00828284e+00, 7.69921229e+00, 2.31440361e+00, 3.38820520e+00,\n",
        "       2.95237326e+00, 6.01355060e+00, 7.75688790e+00, 5.42132555e+00,\n",
        "       7.97879273e+00, 2.99020907e+00, 3.13286967e+00, 3.99104028e+00,\n",
        "       1.79113109e+00, 8.19341124e+00, 1.90452175e-01, 3.19325774e+00,\n",
        "       3.60632155e+00, 4.58377908e+00, 5.24967343e+00, 1.33201668e+00,\n",
        "       7.86756517e+00, 2.66271632e+00, 4.44060720e+00, 9.40028336e+00,\n",
        "       5.78440314e+00, 1.59438386e+00, 5.71677068e+00, 5.78154299e-01,\n",
        "       3.71837227e+00, 4.73353341e+00, 2.37261325e+00, 1.11744765e+00,\n",
        "       8.04386133e+00, 2.84314449e+00, 7.98877121e+00, 8.51853914e+00,\n",
        "       6.33817630e+00, 4.37199737e+00, 9.60985118e+00, 5.53283436e+00,\n",
        "       8.63210960e+00, 8.71647885e+00, 2.89746154e+00, 9.93006442e+00,\n",
        "       7.13848708e+00, 7.07964697e-01, 4.53990366e+00, 8.01670464e+00,\n",
        "       8.46036242e+00, 3.23129134e-01, 5.72859547e+00, 7.17994304e+00,\n",
        "       9.39292721e+00, 5.10678228e+00, 1.81733118e+00, 1.83733161e+00,\n",
        "       4.75856286e+00, 1.41211253e+00, 5.78372599e+00, 9.20165839e+00,\n",
        "       9.02886778e-01, 2.59593167e-01, 8.15689036e+00, 2.88038540e+00,\n",
        "       1.90969987e+00, 6.29199170e+00, 7.95489437e+00, 1.56794907e+00,\n",
        "       6.65786370e+00, 7.01337286e-01, 4.67702732e+00, 2.80114499e+00,\n",
        "       7.36345004e+00, 6.95877919e+00, 7.41378497e-01, 2.25123385e+00,\n",
        "       8.78719303e+00, 2.48809736e-01, 7.02539217e+00, 5.19709395e+00,\n",
        "       8.40017499e+00, 5.04565326e+00, 2.25386200e-01, 6.34024453e+00,\n",
        "       9.59724400e+00, 3.21434049e+00, 4.02101665e+00, 7.45209623e-01,\n",
        "       4.86692691e+00, 2.49787922e-01, 6.14842741e+00, 1.25965891e+00,\n",
        "       5.77325706e+00, 5.93552412e+00, 1.62423326e-01, 9.56151973e+00,\n",
        "       1.27599671e+00, 8.82935245e-01, 7.81069577e+00, 7.36876914e+00,\n",
        "       3.60948894e+00, 1.22766395e+00, 8.17340984e+00, 8.08530553e+00,\n",
        "       7.47066965e+00, 7.92406968e+00, 8.67389966e+00, 2.55840626e+00,\n",
        "       3.10723327e+00, 2.77398464e+00, 9.48645108e-02, 5.42455198e+00,\n",
        "       6.60662619e+00, 6.75785415e+00, 1.27741699e+00, 5.86560320e+00,\n",
        "       1.17790210e+00, 4.95321877e+00, 8.30200296e+00, 2.98816336e+00,\n",
        "       4.13129664e+00, 5.67857020e+00, 8.36979432e+00, 9.89751605e+00,\n",
        "       8.52124321e+00, 6.27614471e-01, 8.37113004e+00, 9.15765402e-01,\n",
        "       4.57027174e+00, 3.49541345e+00, 6.33728575e+00, 6.47935262e+00,\n",
        "       4.72283764e+00, 3.12175194e+00, 1.61010444e+00, 8.53817317e+00,\n",
        "       9.06689240e+00, 8.86459457e+00, 9.60321273e+00, 1.29232606e+00,\n",
        "       4.62537263e+00, 6.78703445e+00, 5.54968772e+00, 5.11063287e+00,\n",
        "       4.86040052e+00, 9.49790329e+00, 7.39278797e+00, 3.18932865e+00,\n",
        "       3.05608450e+00, 7.65795218e+00, 8.77025388e+00, 6.42579619e+00,\n",
        "       1.84113425e+00, 1.24893731e+00, 7.72220923e+00, 1.23852772e+00,\n",
        "       9.48168451e+00, 3.89967272e+00, 6.98805831e+00, 3.12236965e+00,\n",
        "       6.57652156e+00, 7.42715245e+00, 4.90516381e+00, 8.79720984e+00,\n",
        "       4.49600834e+00, 1.56938116e+00, 5.04235204e+00, 8.27300184e+00,\n",
        "       4.36612580e+00, 1.21385111e+00, 9.06745933e+00, 9.80119884e-01,\n",
        "       9.16148406e+00, 8.33791015e+00, 5.80107673e+00, 3.26052180e+00,\n",
        "       4.41500497e+00, 5.37006952e+00, 5.80256011e+00, 8.84445664e-01,\n",
        "       4.07592950e+00, 3.81529767e+00, 6.21548172e+00, 7.40160003e-01,\n",
        "       7.06189146e-01, 1.62634807e-01, 9.96230433e+00, 3.81368996e+00,\n",
        "       8.64822229e-02, 6.12095318e-02, 8.15296564e+00, 2.80045682e+00,\n",
        "       8.09369640e+00, 7.35249348e+00, 5.38487249e+00, 8.40460637e+00,\n",
        "       2.16792534e+00, 2.31369373e+00, 4.23206481e+00, 6.19157847e-01,\n",
        "       2.40572807e+00, 9.15521091e+00, 5.10241906e+00, 2.53403186e+00,\n",
        "       2.67156583e+00, 9.67866218e+00, 5.76377392e+00, 9.34714385e+00,\n",
        "       3.13044323e+00, 1.99390722e+00, 7.17751638e+00, 8.62956432e-01,\n",
        "       7.12446818e-01, 4.19486647e+00, 9.53851042e-02, 7.86816053e+00,\n",
        "       5.87015081e+00, 9.90092768e-01, 2.72167215e-01, 9.08195647e+00,\n",
        "       2.27642959e+00, 7.02550845e+00, 7.32869485e+00, 2.39242594e+00,\n",
        "       9.95319604e+00, 3.60621191e+00, 4.56203697e+00, 3.44308683e+00,\n",
        "       8.21682502e+00, 9.65374520e+00, 9.66745729e+00, 9.78527213e+00,\n",
        "       1.51795019e+00, 1.79587436e-01, 2.37415834e-01, 7.00193035e+00,\n",
        "       1.63909614e+00, 4.46352763e+00, 7.44647855e+00, 1.08174686e+00,\n",
        "       5.34718585e+00, 6.22357281e+00, 1.07128886e+00, 6.12561185e+00,\n",
        "       1.91009155e-01, 1.00521574e+00, 9.07010726e+00, 5.49796914e+00,\n",
        "       2.19810460e+00, 8.90063202e-01, 9.57599034e+00, 9.64146887e+00,\n",
        "       7.53329179e+00, 3.69155140e+00, 4.28975619e+00, 4.50551240e+00,\n",
        "       8.97768994e+00, 2.63825090e+00, 1.68729208e-01, 8.28808317e+00,\n",
        "       6.95000501e-01, 6.81470061e+00, 6.77073958e+00, 4.41465602e+00,\n",
        "       1.18285798e+00, 8.79899602e+00, 9.05024509e+00, 8.73843617e+00,\n",
        "       9.64887996e+00, 7.95933607e+00, 2.69412683e+00, 1.71339045e+00,\n",
        "       2.24426318e-01, 4.12455329e+00, 7.01316442e+00, 4.47955943e+00,\n",
        "       4.98291969e+00, 9.03189797e-01, 2.90225165e+00, 6.04933633e+00,\n",
        "       5.98617849e+00, 9.35441909e+00, 4.13047733e+00, 1.38978978e+00,\n",
        "       9.75238200e-01, 4.50999114e+00, 9.23614531e+00, 8.99706318e+00,\n",
        "       4.42801486e+00, 2.08156287e+00, 2.12152263e+00, 6.76328442e-01,\n",
        "       4.38897971e+00, 2.71559331e+00, 2.11929921e+00, 8.22100050e+00,\n",
        "       2.33844775e+00, 4.31384032e-01, 7.97955767e+00, 9.07970785e+00,\n",
        "       8.01763659e+00, 5.55857647e+00, 7.12253328e+00, 3.52460829e+00,\n",
        "       3.61716851e+00, 9.99764243e+00, 5.65149300e+00, 7.29180479e+00,\n",
        "       2.12488036e+00, 3.12098028e+00, 3.68266811e+00, 9.78757719e+00,\n",
        "       2.72275179e+00, 3.61616043e+00, 5.36072328e+00, 1.91588685e+00,\n",
        "       5.64159734e+00, 5.88743544e+00, 4.82289559e+00, 9.42063138e+00,\n",
        "       4.52188139e+00, 2.25597764e+00, 7.62414208e-01, 3.58480901e+00,\n",
        "       2.34806887e+00, 8.40097723e+00, 1.43042501e+00, 3.87367237e+00,\n",
        "       5.56052340e+00, 7.83058237e+00, 2.57993987e+00, 2.05669782e+00,\n",
        "       9.33035501e+00, 1.78463588e-01, 7.40787856e+00, 8.38862517e+00,\n",
        "       7.95841052e+00, 4.14803953e+00, 7.96428287e+00, 5.17109482e-01,\n",
        "       4.61711178e+00, 8.07200310e+00, 6.80099545e+00, 7.57065199e+00,\n",
        "       3.37043332e+00, 2.70232745e+00, 6.75842658e+00, 2.47368864e+00,\n",
        "       6.94097812e+00, 2.57384428e+00, 6.92226726e+00, 3.47981439e+00,\n",
        "       6.91594515e+00, 7.18887247e+00, 3.29204802e+00, 6.98463551e+00,\n",
        "       5.64258454e+00, 4.70769701e+00, 6.05459401e+00, 2.63014147e+00,\n",
        "       2.08747024e+00, 3.78804289e+00, 2.50448312e+00, 3.02232009e+00,\n",
        "       2.80574343e+00, 9.33646259e+00, 3.46068791e+00, 6.74091315e+00,\n",
        "       5.70975201e+00, 4.36133412e+00, 4.26434376e+00, 8.41988325e+00,\n",
        "       3.53015794e+00, 5.82239288e+00, 1.31019561e+00, 8.00098037e+00,\n",
        "       4.21851230e+00, 2.49592030e+00, 7.50847381e+00, 1.06993909e+00,\n",
        "       9.28699561e+00, 5.14232148e+00, 5.60925539e+00, 5.30088821e+00,\n",
        "       5.37457532e+00, 3.73541823e+00, 6.69164518e+00, 7.63684000e+00,\n",
        "       8.57895466e+00, 2.76796372e+00, 9.05163170e+00, 2.92779134e+00,\n",
        "       9.16069688e+00, 4.74948340e+00, 7.71270737e+00, 4.92358592e+00,\n",
        "       1.97772521e+00, 1.58754218e+00, 5.13470907e+00, 1.47200744e+00,\n",
        "       2.90880681e+00, 7.68888484e+00, 3.92902304e+00, 7.52780747e+00,\n",
        "       5.01322749e+00, 9.40305614e+00, 6.78725605e+00, 8.32230217e+00,\n",
        "       6.73907066e+00, 8.19362071e+00, 3.86953346e+00, 1.21323413e+00,\n",
        "       1.69461660e+00, 7.56846176e+00, 7.23092419e+00, 3.99186939e+00,\n",
        "       9.26691827e+00, 5.46112370e+00, 7.47671233e+00, 9.04638039e+00,\n",
        "       9.79508872e+00, 8.05487365e+00, 3.18820902e+00, 9.77850802e+00,\n",
        "       2.79336975e+00, 9.47111911e-01, 9.05873300e+00, 7.67339276e+00,\n",
        "       5.04954844e+00, 9.73345027e+00, 5.93697265e+00, 4.51755969e+00,\n",
        "       7.17514446e+00, 6.64043173e+00, 1.05985218e+00, 5.38936461e+00,\n",
        "       5.72857400e+00, 9.59218607e+00, 5.52801556e+00, 4.49019310e+00,\n",
        "       6.06691524e+00, 7.97753603e+00, 4.94759781e+00, 5.66127550e+00,\n",
        "       1.89387023e+00, 1.66893889e+00, 4.60548436e+00, 9.76642454e+00,\n",
        "       8.29974855e+00, 1.62694128e+00, 7.76821711e-01, 8.45899920e-01,\n",
        "       6.64441251e+00, 4.62269844e+00, 7.27227155e-01, 8.47454749e-02,\n",
        "       4.24364545e+00, 2.82922878e+00, 3.38239441e+00, 7.52084503e+00,\n",
        "       6.14787754e+00, 2.37076363e+00, 8.37058715e+00, 6.71263604e+00,\n",
        "       9.32394457e+00, 3.23538087e+00, 3.76001482e+00, 9.08389011e+00,\n",
        "       3.65451709e-01, 7.63110887e+00, 1.18294000e+00, 4.26796736e+00,\n",
        "       6.12721527e-01, 1.11475050e+00, 4.06050862e+00, 2.74896016e+00,\n",
        "       9.99159390e+00, 7.58633026e+00, 1.58844114e+00, 2.95870540e+00,\n",
        "       8.23765558e+00, 5.21240082e+00, 6.61757056e+00, 9.28031599e+00,\n",
        "       6.50277349e+00, 1.70770775e+00, 1.94148699e+00, 9.93368769e+00,\n",
        "       2.85941198e+00, 9.86983588e+00, 1.75926042e-01, 7.67024612e+00,\n",
        "       9.01000482e+00, 1.20397624e+00, 8.81857997e+00, 7.43356470e+00,\n",
        "       1.66757103e+00, 8.97004361e-01, 2.15091411e+00, 3.09548005e+00,\n",
        "       8.56087237e+00, 3.98573201e+00, 4.58019737e+00, 4.93006271e+00,\n",
        "       4.67662472e+00, 5.54746120e+00, 6.61848223e+00, 4.75799494e+00,\n",
        "       9.50779417e+00, 7.13384394e+00, 2.70459639e+00, 2.69756840e+00,\n",
        "       4.83171854e+00, 8.21858699e+00, 3.01850827e+00, 5.24033931e+00,\n",
        "       9.60247438e+00, 7.13458624e+00, 3.54497160e+00, 9.15203055e+00,\n",
        "       1.35285086e+00, 4.66983149e+00, 2.82454527e+00, 4.07713893e+00,\n",
        "       9.80154814e+00, 3.57039699e+00, 3.09733043e+00, 3.93587035e-01,\n",
        "       4.67008026e+00, 6.96018913e+00, 4.34097173e+00, 7.89797644e+00,\n",
        "       8.11892211e-02, 3.34883769e+00, 2.02222372e+00, 2.91326885e+00,\n",
        "       6.82441653e+00, 2.22811443e+00, 9.64179148e+00, 5.58473303e-01,\n",
        "       2.13886156e+00, 3.14780712e+00, 3.24992716e+00, 8.55274209e+00,\n",
        "       4.34887964e+00, 9.94214573e+00, 2.20902798e+00, 1.21416460e+00,\n",
        "       2.07937214e+00, 1.37425657e+00, 8.46507844e+00, 6.93722534e+00,\n",
        "       2.76710198e+00, 4.39435482e+00, 2.06811782e+00, 5.17525288e+00,\n",
        "       4.05260587e+00, 4.55583816e+00, 4.71553142e+00, 8.01774870e+00,\n",
        "       2.55053752e+00, 1.40508810e+00, 4.66830904e+00, 5.27460673e+00,\n",
        "       8.54115012e+00, 6.61308777e-01, 2.79563131e+00, 7.06088505e+00,\n",
        "       2.92139683e+00, 1.22511769e-01, 6.69886182e+00, 4.38935557e+00,\n",
        "       6.92896609e+00, 8.55837677e+00, 6.28571973e+00, 9.91920499e+00,\n",
        "       2.26166420e+00, 7.99668019e+00, 2.05566117e+00, 9.06431823e-01,\n",
        "       7.01612401e+00, 6.65082328e+00, 5.78874264e+00, 8.93959005e+00,\n",
        "       2.14329812e+00, 1.71295874e+00, 7.83326944e+00, 8.35458773e+00,\n",
        "       1.66461206e+00, 1.30091629e+00, 5.05265341e+00, 3.11645761e+00,\n",
        "       2.11527806e+00, 1.95069426e+00, 7.49555448e+00, 2.76692041e+00,\n",
        "       7.20884127e+00, 4.10226527e+00, 2.92877532e+00, 1.18296748e+00,\n",
        "       2.63000232e+00, 6.08904904e+00, 3.80902744e+00, 2.62396277e+00,\n",
        "       9.92742525e+00, 9.41993141e+00, 6.66487695e+00, 1.47721759e+00,\n",
        "       1.45424081e+00, 7.04689159e+00, 3.41556207e+00, 4.83880513e+00,\n",
        "       7.84322547e+00, 2.87583905e+00, 7.65018492e+00, 8.22011529e+00,\n",
        "       1.70317095e+00, 5.69299449e+00, 1.81808686e+00, 5.00673418e+00,\n",
        "       5.69000080e+00, 9.31410815e+00, 7.00582091e+00, 6.54723899e+00,\n",
        "       9.52596496e+00, 6.05937706e+00, 7.52509980e+00, 1.75767157e+00,\n",
        "       6.32254307e+00, 4.18060902e+00, 3.31149151e-02, 9.11714502e+00,\n",
        "       7.65468587e-01, 6.47382281e+00, 6.23595890e+00, 4.88629636e+00,\n",
        "       7.77828423e-01, 3.74566767e-01, 3.37659440e+00, 8.77878928e+00,\n",
        "       7.84758751e+00, 6.04790222e+00, 1.31506686e+00, 5.23519115e+00,\n",
        "       9.42903061e-01, 6.37092113e-01, 6.40804280e+00, 8.62907387e+00,\n",
        "       2.07336218e+00, 6.66081473e+00, 9.59965447e+00, 4.38225450e+00,\n",
        "       2.24324009e+00, 7.36333566e+00, 4.78178660e+00, 3.48980128e+00,\n",
        "       2.03608955e+00, 7.72339181e+00, 2.47056942e+00, 1.46469819e+00,\n",
        "       6.58373194e+00, 4.48841713e+00, 6.39381633e+00, 9.00102332e+00,\n",
        "       4.47935150e+00, 1.40879934e+00, 2.73041346e+00, 4.39940962e+00,\n",
        "       5.60808235e-01, 8.59186026e+00, 8.64996600e+00, 7.87341526e+00,\n",
        "       7.74976008e+00, 9.72104248e+00, 5.67413215e+00, 6.87003532e+00,\n",
        "       4.20474569e+00, 5.36188074e+00, 6.88909413e+00, 1.55126110e+00,\n",
        "       8.21508563e+00, 3.93924063e+00, 3.92445789e+00, 7.52781904e+00,\n",
        "       9.17694916e+00, 6.48685907e+00, 5.26029851e+00, 6.39760384e-02,\n",
        "       4.67142060e+00, 7.41468560e+00, 4.31713081e+00, 6.87985431e+00,\n",
        "       6.27796875e+00, 2.90620941e+00, 9.21956584e+00, 4.10722538e+00,\n",
        "       5.26588326e+00, 8.32876176e+00, 8.69591921e+00, 6.23521425e+00,\n",
        "       5.44547726e+00, 5.89595089e+00, 2.04908707e+00, 4.73210008e+00,\n",
        "       3.40654683e+00, 6.65572185e+00, 6.97231703e+00, 2.94608526e+00,\n",
        "       8.72955461e+00, 1.56506242e+00, 3.38529944e+00, 1.88209980e+00,\n",
        "       7.99211000e+00, 3.66962341e-02, 8.66564349e+00, 2.86457504e+00,\n",
        "       9.38261732e+00, 2.47496862e+00, 1.85536955e+00, 5.41625587e+00,\n",
        "       1.79064535e+00, 7.20511868e+00, 1.86351945e+00, 2.23549329e+00,\n",
        "       1.88430218e+00, 1.46471148e+00, 1.63481092e+00, 8.45661044e+00,\n",
        "       7.10504103e+00, 4.97974881e-01, 8.74315435e+00, 7.79059959e+00,\n",
        "       9.35569277e+00, 2.63461688e+00, 4.06755812e+00, 5.92770254e+00,\n",
        "       8.12100272e+00, 9.37654289e+00, 2.76038684e+00, 3.50531276e+00,\n",
        "       6.95724892e+00, 2.30008914e+00, 7.08633701e+00, 4.98848679e+00,\n",
        "       8.92684565e+00, 5.53832380e+00, 7.82088111e+00, 9.53175035e+00,\n",
        "       4.59173560e+00, 3.18263581e+00, 9.77957533e+00, 3.57390974e+00,\n",
        "       7.27107091e+00, 1.53876139e+00, 8.05314595e+00, 5.34779580e+00,\n",
        "       9.85990213e-01, 2.53422230e+00, 7.91809593e+00, 2.27966302e+00,\n",
        "       6.23338273e+00, 2.57189678e+00, 2.89114569e+00, 2.10394372e+00,\n",
        "       5.22544160e+00, 8.60529400e+00, 3.21091303e+00, 5.09549974e+00,\n",
        "       7.23924517e+00, 1.32518083e+00, 6.62550624e+00, 8.09992906e+00,\n",
        "       8.44754815e+00, 8.76705398e+00, 1.16216903e+00, 4.17435237e+00,\n",
        "       9.28149006e+00, 3.75667653e+00, 7.57629385e+00, 3.25239920e+00,\n",
        "       8.94550527e+00, 4.75496500e+00, 2.17644245e+00, 3.40047286e+00,\n",
        "       5.89259262e+00, 6.21260208e-01, 6.43617509e+00, 5.48371461e+00,\n",
        "       1.32434813e+00, 2.99232740e+00, 7.93278875e+00, 8.03665147e+00,\n",
        "       5.31909700e-01, 4.07185352e+00, 4.30036127e+00, 3.54817967e+00,\n",
        "       1.65380662e+00, 9.75967511e+00, 8.75395820e+00, 9.77293432e-01,\n",
        "       4.36769217e+00, 2.90962253e+00, 7.51480096e-01, 5.37133055e-02,\n",
        "       7.51894786e+00, 6.24595442e+00, 5.69620678e+00, 3.19194466e+00,\n",
        "       7.97980689e+00, 6.76566317e+00, 8.26841515e+00, 2.60996894e+00,\n",
        "       6.71786272e+00, 9.03725215e+00, 7.65186297e+00, 8.63740953e+00,\n",
        "       5.32253519e+00, 6.94635312e+00, 4.80976378e+00, 4.85776322e-01,\n",
        "       1.57528799e+00, 9.60956652e+00, 2.17715862e+00, 9.51180189e+00,\n",
        "       9.57147022e+00, 8.49569732e+00, 8.25581263e+00, 9.11153132e+00,\n",
        "       1.64353305e+00, 2.62249326e+00, 2.59566863e+00, 1.27850220e+00,\n",
        "       1.21277991e+00, 3.87674332e+00, 4.11645181e+00, 2.28234709e-01,\n",
        "       9.41173954e+00, 2.02635389e+00, 2.25538464e+00, 9.38547258e-03,\n",
        "       9.21242656e+00, 7.40324880e+00, 2.42734203e+00, 8.75350947e+00,\n",
        "       1.26518072e+00, 2.25495338e+00, 6.80799839e+00, 5.87667696e+00,\n",
        "       5.40489461e+00, 7.92018807e-01, 2.94596724e+00, 5.29280381e+00,\n",
        "       3.99805130e+00, 5.30266325e+00, 4.83999472e+00, 4.64406966e+00,\n",
        "       8.91450275e+00, 4.26333521e+00, 2.40625075e+00, 7.55437325e+00,\n",
        "       9.16901646e+00, 5.04144790e+00, 8.95069016e+00, 9.46707334e-01,\n",
        "       1.19883065e+00, 6.28357872e+00, 8.00308627e+00, 9.33835799e+00,\n",
        "       6.41166254e+00, 5.05792912e+00, 1.07295059e+00, 4.84659204e+00,\n",
        "       3.19826695e+00, 5.55296013e+00, 9.38052693e+00, 1.05212449e+00,\n",
        "       5.93753744e+00, 8.23978827e+00, 7.70759289e+00, 4.17461527e+00,\n",
        "       5.30683379e+00, 3.44921811e+00, 1.58652856e+00, 4.49520207e+00,\n",
        "       7.98715631e+00, 1.44347260e+00, 5.67455347e+00, 9.29764373e+00,\n",
        "       1.29711248e+00, 6.30301086e+00, 5.68012839e+00, 6.00757219e+00,\n",
        "       8.83607543e+00, 4.87139399e-01, 1.14248004e+00, 7.03664195e+00,\n",
        "       6.52194295e+00, 3.48163981e+00, 9.16442442e+00, 6.78400650e-01,\n",
        "       9.04064822e-01, 9.04822489e+00, 6.88565063e+00, 6.16878518e+00,\n",
        "       3.00280042e+00, 2.85574126e+00, 5.46813369e+00, 1.67362722e+00,\n",
        "       7.84431391e+00, 6.02389159e+00, 1.06809734e+00, 7.40493837e+00,\n",
        "       6.87598809e+00, 6.64223723e+00, 2.37106638e+00, 7.95324151e+00,\n",
        "       1.42291750e+00, 5.71809444e+00, 1.34722774e+00, 6.17009403e+00,\n",
        "       6.41023631e+00, 5.90273275e+00, 7.96316064e+00, 7.16841440e+00,\n",
        "       8.05183128e+00, 4.87357934e+00, 6.36813942e+00, 4.02242370e+00,\n",
        "       6.75954563e+00, 3.32187070e-01, 3.80919339e+00, 8.99500627e+00,\n",
        "       5.09637762e-01, 2.62006594e+00, 6.41650602e+00, 9.28489536e+00,\n",
        "       5.47726373e+00, 5.27065447e+00, 7.68898332e+00, 3.41204959e-01,\n",
        "       5.08570474e+00, 7.44368406e+00, 6.53284356e+00, 2.02750528e+00,\n",
        "       1.10840591e+00, 6.68397616e+00, 5.56666454e+00, 4.46215130e+00,\n",
        "       8.10407069e+00, 4.61671365e+00, 3.32294743e+00, 1.24706130e+00,\n",
        "       3.49728633e+00, 3.59659628e-01, 7.69348670e+00, 9.63326048e+00,\n",
        "       3.70532329e+00, 5.54408000e+00, 9.57287697e+00, 9.22057150e-01,\n",
        "       4.80366674e+00, 8.32904623e+00, 5.84350479e+00, 2.26345093e+00])\n"
      ],
      "execution_count": 0,
      "outputs": []
    },
    {
      "cell_type": "code",
      "metadata": {
        "id": "7L0Xj6rhjNAj",
        "colab_type": "code",
        "colab": {
          "base_uri": "https://localhost:8080/",
          "height": 283
        },
        "outputId": "3c7445e9-f799-4289-c4a1-06f312263a55"
      },
      "source": [
        "plt.plot(xbig,ybig,'.')"
      ],
      "execution_count": 19,
      "outputs": [
        {
          "output_type": "execute_result",
          "data": {
            "text/plain": [
              "[<matplotlib.lines.Line2D at 0x7f845f1aa2e8>]"
            ]
          },
          "metadata": {
            "tags": []
          },
          "execution_count": 19
        },
        {
          "output_type": "display_data",
          "data": {
            "image/png": "[encoded data removed]",
            "text/plain": [
              "<Figure size 432x288 with 1 Axes>"
            ]
          },
          "metadata": {
            "tags": []
          }
        }
      ]
    },
    {
      "cell_type": "code",
      "metadata": {
        "id": "4EPjHxEUkm1Q",
        "colab_type": "code",
        "colab": {
          "base_uri": "https://localhost:8080/",
          "height": 571
        },
        "outputId": "061ddc4d-09a0-4e70-bac3-19139199183e"
      },
      "source": [
        "# A 2-d histogram of the data\n",
        "plt.hist2d(xbig,ybig)"
      ],
      "execution_count": 20,
      "outputs": [
        {
          "output_type": "execute_result",
          "data": {
            "text/plain": [
              "(array([[32., 21., 32., 31., 34., 34., 22., 36., 28., 35.],\n",
              "        [11., 23., 16., 12., 10., 11., 16., 16., 14.,  8.],\n",
              "        [ 6., 12., 14.,  2., 13.,  8., 10.,  8.,  6., 11.],\n",
              "        [ 6., 13., 15.,  6.,  7.,  7., 11.,  8., 10., 11.],\n",
              "        [ 6.,  4., 15.,  8., 11.,  7.,  7., 15.,  6., 10.],\n",
              "        [ 5.,  4.,  9.,  5.,  6., 11.,  9.,  7.,  5.,  3.],\n",
              "        [ 5.,  5.,  8.,  8.,  4., 10., 11.,  4., 11.,  4.],\n",
              "        [ 9.,  6.,  5.,  1.,  8.,  4.,  6.,  8.,  7.,  7.],\n",
              "        [ 7.,  7.,  4.,  6.,  7.,  4.,  2.,  1.,  3.,  6.],\n",
              "        [ 4.,  6.,  4.,  3.,  7.,  3.,  3.,  3.,  6.,  4.]]),\n",
              " array([1.70091611e-05, 8.99069577e-01, 1.79812215e+00, 2.69717471e+00,\n",
              "        3.59622728e+00, 4.49527985e+00, 5.39433242e+00, 6.29338499e+00,\n",
              "        7.19243755e+00, 8.09149012e+00, 8.99054269e+00]),\n",
              " array([5.64740013e-03, 1.00484690e+00, 2.00404641e+00, 3.00324591e+00,\n",
              "        4.00244541e+00, 5.00164492e+00, 6.00084442e+00, 7.00004392e+00,\n",
              "        7.99924342e+00, 8.99844293e+00, 9.99764243e+00]),\n",
              " <matplotlib.collections.QuadMesh at 0x7f845efdc4a8>)"
            ]
          },
          "metadata": {
            "tags": []
          },
          "execution_count": 20
        },
        {
          "output_type": "display_data",
          "data": {
            "image/png": "[encoded data removed]",
            "text/plain": [
              "<Figure size 432x288 with 1 Axes>"
            ]
          },
          "metadata": {
            "tags": []
          }
        }
      ]
    }
  ]
}