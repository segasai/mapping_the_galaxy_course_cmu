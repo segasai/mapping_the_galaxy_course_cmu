{
  "nbformat": 4,
  "nbformat_minor": 0,
  "metadata": {
    "colab": {
      "name": "Mapping The Galaxy, Reading data",
      "provenance": [],
      "collapsed_sections": [],
      "include_colab_link": true
    },
    "kernelspec": {
      "name": "python3",
      "display_name": "Python 3"
    }
  },
  "cells": [
    {
      "cell_type": "markdown",
      "metadata": {
        "id": "view-in-github",
        "colab_type": "text"
      },
      "source": [
        "<a href=\"https://colab.research.google.com/github/segasai/mapping_the_galaxy_course_cmu/blob/master/notebooks/Mapping_The_Galaxy%2C_Reading_data.ipynb\" target=\"_parent\"><img src=\"https://colab.research.google.com/assets/colab-badge.svg\" alt=\"Open In Colab\"/></a>"
      ]
    },
    {
      "cell_type": "code",
      "metadata": {
        "id": "DtOyYiFtUYhd",
        "colab_type": "code",
        "colab": {}
      },
      "source": [
        "import numpy as np\n",
        "import math\n",
        "import matplotlib.pyplot as plt\n",
        "import pandas as pd\n",
        "from google.colab import files\n",
        "# Some magick you will need in every program of the Course\n",
        "# This will load some functionality you will need later"
      ],
      "execution_count": 0,
      "outputs": []
    },
    {
      "cell_type": "code",
      "metadata": {
        "id": "7A8Ao3DWqZoF",
        "colab_type": "code",
        "colab": {}
      },
      "source": [
        "url_big='https://raw.githubusercontent.com/segasai/mapping_the_galaxy_course_cmu/master/data/gaia_bright_nearby.csv'\n",
        "url_small='https://raw.githubusercontent.com/segasai/mapping_the_galaxy_course_cmu/master/data/gaia_bright_nearby_small.csv'\n",
        "url_rand='https://raw.githubusercontent.com/segasai/mapping_the_galaxy_course_cmu/master/data/gaia_random.csv'"
      ],
      "execution_count": 0,
      "outputs": []
    },
    {
      "cell_type": "code",
      "metadata": {
        "id": "nhI63rzJsaFU",
        "colab_type": "code",
        "colab": {}
      },
      "source": [
        "# This will read the data from the address url_big\n",
        "data = pd.read_csv(url_big).to_records()\n"
      ],
      "execution_count": 0,
      "outputs": []
    },
    {
      "cell_type": "code",
      "metadata": {
        "id": "c0PzqCDjtaKM",
        "colab_type": "code",
        "outputId": "675b4633-7e7a-4bfa-b829-cda1542dafb1",
        "colab": {
          "base_uri": "https://localhost:8080/",
          "height": 161
        }
      },
      "source": [
        "# This is the data table. It includes many columns \n",
        "data"
      ],
      "execution_count": 28,
      "outputs": [
        {
          "output_type": "execute_result",
          "data": {
            "text/plain": [
              "rec.array([(     0, 347.19456254, 72.95543388, 115.48598968, 11.58509588, 14.9219, 11.38109522,   90.69431447,   6.87031022),\n",
              "           (     1, 343.29404927, 73.10365632, 114.49499738, 12.19931493, 11.6353, 25.07311546, -103.09852552,  25.92205768),\n",
              "           (     2, 344.32309813, 72.9821041 , 114.71538147, 11.95764134, 14.5672, 19.02521743,   48.13522638, 265.05915194),\n",
              "           ...,\n",
              "           (154918, 346.80139564, 72.29600302, 115.10981608, 11.02602426, 14.5211, 30.35819348,  187.98293488, -52.96775975),\n",
              "           (154919, 348.58710099, 72.36712353, 115.64709194, 10.88273321, 13.2174, 17.02782712,  -20.45349556,  -5.75739308),\n",
              "           (154920, 347.92807313, 72.4310737 , 115.48370674, 11.01715836, 13.0087, 10.71983826,  -61.58606709,  18.27601579)],\n",
              "          dtype=[('index', '<i8'), ('ra', '<f8'), ('dec', '<f8'), ('l', '<f8'), ('b', '<f8'), ('phot_g_mean_mag', '<f8'), ('parallax', '<f8'), ('pmra', '<f8'), ('pmdec', '<f8')])"
            ]
          },
          "metadata": {
            "tags": []
          },
          "execution_count": 28
        }
      ]
    },
    {
      "cell_type": "code",
      "metadata": {
        "id": "HNpBSpHztfHO",
        "colab_type": "code",
        "outputId": "0531117a-e14c-4a4c-b678-62252190c33f",
        "colab": {
          "base_uri": "https://localhost:8080/",
          "height": 89
        }
      },
      "source": [
        "# We can access different column, ra, dec\n",
        "print(data['ra'])\n",
        "print(data['dec'])"
      ],
      "execution_count": 29,
      "outputs": [
        {
          "output_type": "stream",
          "text": [
            "[347.19456254 343.29404927 344.32309813 ... 346.80139564 348.58710099\n",
            " 347.92807313]\n",
            "[72.95543388 73.10365632 72.9821041  ... 72.29600302 72.36712353\n",
            " 72.4310737 ]\n"
          ],
          "name": "stdout"
        }
      ]
    },
    {
      "cell_type": "code",
      "metadata": {
        "id": "zaJE1VxXuW7Y",
        "colab_type": "code",
        "outputId": "b53ab634-e4e7-40a6-8e6d-22c4bbe50f37",
        "colab": {
          "base_uri": "https://localhost:8080/",
          "height": 373
        }
      },
      "source": [
        "plt.hist(data['ra'])"
      ],
      "execution_count": 30,
      "outputs": [
        {
          "output_type": "execute_result",
          "data": {
            "text/plain": [
              "(array([15010., 15440., 15805., 15338., 14516., 15379., 15448., 16342.,\n",
              "        16262., 15381.]),\n",
              " array([5.09330562e-03, 3.60040597e+01, 7.20030262e+01, 1.08001993e+02,\n",
              "        1.44000959e+02, 1.79999925e+02, 2.15998892e+02, 2.51997858e+02,\n",
              "        2.87996825e+02, 3.23995791e+02, 3.59994758e+02]),\n",
              " <a list of 10 Patch objects>)"
            ]
          },
          "metadata": {
            "tags": []
          },
          "execution_count": 30
        },
        {
          "output_type": "display_data",
          "data": {
            "image/png": "[encoded data removed]",
            "text/plain": [
              "<Figure size 432x288 with 1 Axes>"
            ]
          },
          "metadata": {
            "tags": []
          }
        }
      ]
    }
  ]
}